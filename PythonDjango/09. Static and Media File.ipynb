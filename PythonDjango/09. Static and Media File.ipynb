{
 "cells": [
  {
   "cell_type": "markdown",
   "id": "8b15d785",
   "metadata": {},
   "source": [
    "# 9. 정적 파일과 미디어 파일 관리하기\n",
    "## 정적 파일 관리하기\n",
    "지금 까지는 장고의 설명과 기능 구현에 집중했다. 하지만 웹 사이트에서 가장 중요한 것중 하나는 디자인이다. 방문자의 신뢰를 얻기 위해선 디자인에도 신경을 써야한다. 부트스트랩을 사용하여 페이지 디자인을 적용하여 주자.\n",
    "### 포스트 목록 페이지에 부트스트랩 적용학.\n",
    "#### (1) blog_list.html 다시 사용\n",
    "앞에서 부트스트랩을 통해 만든 blog_list.html을 post_list.html에 덮어씌워준다. 아직 CSS가 적용이 안되서 오류가 나타난다. 하지만 html 파일을 만들 때 처럼 bootstrap 폴더에 css파일을 넣는다고 해도 작동이 되지않는다. 이는 장고가 이렇게 동작되는 방식이 아니기 때문이다.\n",
    "#### (2) MTV 구조 이해하기\n",
    "장고를 처음 배울때 배웠듯이 장고는 MTV구조로 동작한다. 즉 앱 폴더에 있는 template 폴더의 html파일은 정적인 파일이 아니다.  장고는 views.py에서 정의한 내용에 따라 그 빈칸을 채워 사용자에게 정보를 제공하기 때문이다. 따라서 templates폴더에 css,js파일을 함께 넣어두어도 해당 파일에 접근 할 수 없다.  \n",
    "\n",
    "css,js파일은 templates폴더의 html과 달리 고정된 내용만 접근하면된다. 따라서 최종적으로 웹 서버를 운영할 때는 특정 URL로 접근을 하면 해당 css, js 파일을 제공할 수 있또록 설정 해두면 된다. \n",
    "#### (3) static 폴더를 만들고 css파일 넣기\n",
    "각 앱폴더 아래에 static 폴더를 만들고 css,js와 같은 정적 파일을 넣는다. \n",
    "#### (4) css 파일 경로 지정하기\n",
    "이제 post_list.html을 수정해야 한다. 위에 {% static %}을 추가해주고 아래에 css 경로를 변경해주면 정상적으로 적용이 된다. \n",
    "#### (5) 실제 포스트 내용이 표시되도록 수정하기\n",
    "지금은 HTML 포스트가 2개있는 것 처럼 모양만 만들어지 실제 내용이 있는것은 아니다.\n",
    "blog post가 있는 부분에 for문을 이용해 p를 정의 해준다. 그 후 제목에 p.title / 본문에 p.content/ 작성일에 p.created_at 으로 대체 해준다.  \n",
    "그럼 앞에서 적은 포스트가 적용이 된다. readmore버튼을 누르면 상세 페이지로도 넘어가진다.  \n",
    "### 포스트 상세 페이지에 부트스트랩 적용하기\n",
    "상세 페이지도 수정해준다. \n",
    "#### (1) Start Bootstrap의 포스트 상세 페이지에서 디자엔 벤치마킹하기\n",
    "해당 홈페이지의 Blog Post를 다운 받고 그전에 Live Preview로 전체를 살펴보자.  \n",
    "포스트 내용을 담는 부분만 사용할 것이고 앞으로 이를 메인영역, div id=\"main area로 정의하겠다. 메인영역은 포스트 영역/ 댓글 영역으로 나누어 생각할 수 있다. \n",
    "#### (2) Blog Post 디자인 적용하기\n",
    "이제 해당 Blog Post의 디자인을 적용해보자. 페이지 소스를 열고 post_detail.html에 해당 소스를 붙여넣기 해주자.  \n",
    "목록 페이지와 마찬가지로 {% static %}을 추가해주고 css도 추가해준다. 원래있던 bootstrap코드는 삭제해주자.\n",
    "#### (3) 네이게이션바에 페이지 윗부분 가리는 문제 해결\n",
    "nav 태그의 class에 추가된 fixed-top 때문이다.\n",
    "#### (4) 실제 포스트 내용이 표시되도록 수정하기\n",
    "이제 메인 영역을 수정해야 한다. h1 탱그에 post.title 필드가 노출되도록 수정한다. 아직 Post모델에 author 필드를 만들지 않았으므로 Start Bootstrap은 작성사명 쓸 위치라는 텍스트로 임시 수정한다. 작성 날짜에는 post.created_at필드가 노출되도록 수정하고 본문엔 post.content 필드를 노출한다. 원래 소스코드의 본문 위치의 내용은 모두 삭제한다.\n",
    "___"
   ]
  },
  {
   "cell_type": "markdown",
   "id": "47cabf53",
   "metadata": {},
   "source": [
    "## 미디어 파일 관리하기\n",
    "해당 포스터와 관련 있는 이미지를 작성자가 성택해서 업로드할 수 있도록 하자.\n",
    "### 포스트에 이미지 올리기\n",
    "#### (1) 이미지 폴더 지정하기\n",
    "장고는 이미지 업로드를 위한 ImageField를 제공한다. ImageField를 사용하려면 사용자가 업로드한 이미지를 어디에 저장할지 먼저 설정해야한다. 그리고 업로드된 이미지들이 모뎌 있는 폴더의 URL을 어떻게 할지도 설정해야 한다. 일단 blog_project/settings.py를 열어서 맨 아래 두줄을 추가해준다. os모듈을 사용하므로 import os를 추가한다.\n",
    "MEDIA_URL='/media/'\n",
    "MEDIA_ROOT=os.path.join(BASE_DIR,'_media)\n",
    "\n",
    "이미지 파일은 프로젝트 폴더 아래에 '-media'라는 이름의 폴더를 만들고 그안에 저장하도록 설정했다. 그리고 MEDIA_URL은 /media/로 지정했다. 웹 브라우저에서 도메인 뒤에 /media/라는 경로가 따라오면 미디어 파일을 사용하겠다는 의미이다. 이제 blog/model.py를 수정해야한다. 파일을 열고 imageField로 head_image를 추가한다.  \n",
    "upload_to에 이미지를 저장할 폴더의 경로 규칙을 지정한다. 여기서는 blog 폴더 아래에 images폴더를 만들고, 연도 폴더, 월 폴더, 일 폴더까지 내려간 위치에 저장하도록 설정한다. 한 폴더안에 저장하지 않고 이렇게 여러 폴더에 내려가서 저장하도록 설정해야 나중에 방문자가 웹 사이트를 방문했을 때 서버에서 파일을 찾아오는 시간을 단축할 수 있다. 한 폴더 안에 너무 많은 파일이 있으면 그 파일을 찾는 시간이 오래걸린다.  \n",
    "\n",
    "blank=True는 해당 필드가 필수 항목은 안니라는 뜻이다. Post모델의 경우 관리자 페이지에서 title이나 content 필드를 비워두고 save 버튼을 클릭하면 해당 필드가 표시되면서 반드시 채워달라는 메시지가뜬다.\n",
    "#### (2) Pillow 라이브러리 설치하고 migration하기\n",
    "모델을 변경했으니 migration을 해준다. 터미널에서 python manage.py makemigrations 하여 장고에게 모델이 변경되었음을 알린다.  \n",
    "그러면 Pillow(이미지 처리 라이브러리)를 설치하라고 뜬다. 설치를 해주고 다시 migrations해주자.  \n",
    "#### (3) 이미지 업로드 테스트하기.\n",
    "이제 관리자 페이지에가서 예전에 만든 포스트에 이미지를 추가하자. 하지만 오류가 뜬다.\n",
    "#### (4) 미디어 파일을 위한 URL 지정하기\n",
    "오류의 이유는 urls.py에서 media URL에 대한 설정을 하지 않았기 때문이다. 프로젝트의 URL 설정을 해야하므로 blog_project/urls.py 파일을 열어 맨아래줄에 한줄을 추가해준다.  urlpatterns+=static(settings.MEDIA_URL,document_root=settings.MEDIA_ROOT) 이제  포스트 목록 페이지에서도 대표이미지가 보이게 post_list.html에서 코드를 수정한다. image가 없으면 오류가 뜨므로 if문을 사용해 조건을 걸어줘야하지만 일단은 모든글에 이미지를 넣자. 그러면 성공적으로 목록 페이지에 이미지가 보인다.\n",
    "#### (5) -media 폴더를 버전관리에서 제외하기\n",
    "media 폴더역시 테스트를위해 만든 폴더이므로 버전관리가 필요없다 gitignore에 추가하자.\n",
    "#### (6) 포스트 상세 페이지에 이미지 나타내기\n",
    "이제 포스트 상세 페이지도 이미지가 뜨게 수정하자 이미지 태그의 src를 post.head_image.url로 수정해주면된다.\n",
    "___"
   ]
  },
  {
   "cell_type": "markdown",
   "id": "a66aa7dd",
   "metadata": {},
   "source": [
    "### 포스트에 파일 올리기\n",
    "Post 모델에 이미지뿐만 아니라 다른 종류의 파일도 업로드 하면 좋을것같다. 방문자가 바로 필요한 파일을 내려받을수 있도록 해주려면 장고의 FileField를 사용하면된다.\n",
    "#### (1) file_upload필드 만들기 \n",
    "blog/model.py에 FileField로 file_upload 필드를 다음과 같이 추가한다. 사용법은 ImageField와 거의 동일하다. \n",
    "추가코드 :  file_upload=models.FileField(upload_to='blog/files/%Y/%m/%d/',blank=True)\n",
    "다시 마이그레이션을 해서 DB에 내용을 적용한다.\n",
    "#### (2) 파일 업로드 테스트하기\n",
    "File upload 입력란이 추가되었고 성공적으로 저장이된다.  목록페이지에 파일 올린것을 출력 하는것은 나중에 if문을 배워야하므로 우선 pass한다."
   ]
  }
 ],
 "metadata": {
  "kernelspec": {
   "display_name": "Python 3",
   "language": "python",
   "name": "python3"
  },
  "language_info": {
   "codemirror_mode": {
    "name": "ipython",
    "version": 3
   },
   "file_extension": ".py",
   "mimetype": "text/x-python",
   "name": "python",
   "nbconvert_exporter": "python",
   "pygments_lexer": "ipython3",
   "version": "3.8.8"
  }
 },
 "nbformat": 4,
 "nbformat_minor": 5
}
