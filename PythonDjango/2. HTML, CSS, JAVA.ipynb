{
 "cells": [
  {
   "cell_type": "markdown",
   "id": "81789b83",
   "metadata": {},
   "source": [
    "# 2. HTML, CSS, JAVA\n",
    "HTML CSS 는 어느정도 알고있으므로 간략하게 넘어간다."
   ]
  },
  {
   "cell_type": "markdown",
   "id": "d4a0ab14",
   "metadata": {},
   "source": [
    "### HTML이란?\n",
    "대부분의 웹사이트는 HTML(Hypertext markup language)로 작성되어 있다. 서버가 HTML 문서를 보내주면 웹브라우저가 HTML 문서를 해독하고 결과를 화면에 구성해서 보여준다. HTML문서는 글씨 크기, 모양, 그림 위치 같은 정보를 텍스트 형태로 담고 있다."
   ]
  },
  {
   "cell_type": "markdown",
   "id": "2230c84c",
   "metadata": {},
   "source": [
    "<!DOCTYPE html>\n",
    "<html>\n",
    "    <head>\n",
    "        <title>박준형의 홈페이지</title>\n",
    "    </head>\n",
    "    <body>\n",
    "        <nav>\n",
    "            <a href=\"./index.html\">Home</a>\n",
    "            <a href=\"./blog_list.html\">Blog</a>\n",
    "            <a href=\"./about_me.html\">About Me</a>\n",
    "        </nav>\n",
    "        <h1>첫번 째 헤드라인</h1>\n",
    "        <h2>두번 째 헤드라인</h2>\n",
    "        <h3>세번 째 헤드라인</h3>\n",
    "        <h4>네번 째 헤드라인</h4>\n",
    "        <h5>다섯번 째 헤드라인</h5>\n",
    "        <p>문단은 p로 쓴다.(Paragraph의 앞 글자)</p>\n",
    "        <a href='http://www.google.com'>Go to google</a>\n",
    "        <hr/>\n",
    "        <img src=\"./image.jpg\" width=\"600px\">\n",
    "    </body>\n",
    "</html>"
   ]
  },
  {
   "cell_type": "markdown",
   "id": "d5356710",
   "metadata": {},
   "source": [
    "<!DOCTYPE html>\n",
    "<html>\n",
    "    <head>\n",
    "        <title>About me</title>\n",
    "        <style>\n",
    "            nav {background-color:darkgreen; font-size: 150%; text-align: center}\n",
    "            nav a{color:gold}\n",
    "        </style>\n",
    "    </head>\n",
    "    <body>\n",
    "        <nav>\n",
    "            <a href=\"./index.html\">Home</a>\n",
    "            <a href=\"./blog_list.html\">Blog</a>\n",
    "            <a href=\"./about_me.html\">Abount Me</a>        \n",
    "        </nav>\n",
    "\n",
    "        <h1>Abount me</h1>\n",
    "        <h2>박준형입니다.</h2>\n",
    "        <p>python과 Django로 웹 페이지 만들기를 배우는 중입니다.</p>\n",
    "        <a href=\"index.html\">첫 화면으로 가기</a>\n",
    "        <img src=\"image.jpg\" height=\"400px\">\n",
    "        \n",
    "    </body>\n",
    "</html>"
   ]
  },
  {
   "cell_type": "markdown",
   "id": "a8cd1154",
   "metadata": {},
   "source": [
    "<!DOCTYPE html>\n",
    "<html>\n",
    "    <head>\n",
    "        <title>About me</title>\n",
    "        <style>\n",
    "            nav {background-color:darkgreen; font-size: 150%; text-align: center}\n",
    "            nav a{color:gold}\n",
    "        </style>\n",
    "    </head>\n",
    "    <body>\n",
    "        <nav>\n",
    "            <a href=\"./index.html\">Home</a>\n",
    "            <a href=\"./blog_list.html\">Blog</a>\n",
    "            <a href=\"./about_me.html\">Abount Me</a>        \n",
    "        </nav>\n",
    "        <h1>Blog</h1>\n",
    "        <p>미정</p>\n",
    "\n",
    "    </body>\n",
    "</html>"
   ]
  },
  {
   "cell_type": "markdown",
   "id": "8f3862ae",
   "metadata": {},
   "source": [
    "### CSS란?"
   ]
  },
  {
   "cell_type": "markdown",
   "id": "fd380e04",
   "metadata": {},
   "source": [
    "만약 웹 디자인을일관성있게 만들기 위해 nav 바를 다른 html에도 적용하고 싶다면 간단하게 태그를 복사해 오면된다.  \n",
    "하지만 웹사이트의 개수가 수십 수백개에 달한다면 일일이 복사하는것은 번거롭다. 그러기 때문에 css를 사용한다.\n",
    "CSS란 웹 문서의 디자인을 구현하기 위한 언어이다. HTML이 웹 페이지의 틀을 만들고 내용을 채운다면 CSS는 텍스트의 크기나 색, 이미지의 크기나 위치 등을 지정한다. "
   ]
  },
  {
   "cell_type": "markdown",
   "id": "989e060e",
   "metadata": {},
   "source": [
    "(1) 먼저 css파일을 만들고 style 태그의 내용을 모두 옮긴다.  \n",
    "(2) html 파일에 css파일을 추가한다."
   ]
  },
  {
   "cell_type": "markdown",
   "id": "b83b7541",
   "metadata": {},
   "source": [
    "### 자바 스크립트"
   ]
  },
  {
   "cell_type": "markdown",
   "id": "f5d23db5",
   "metadata": {},
   "source": [
    "사용자가 서버에 특정 페이지를 요청하면 서버는 html, css파일을 넘겨주고 사용자의 PC나 스마트폰의 브라우저는 파일을 렌더링하여 화면에 보여준다.  \n",
    "이 방법은 정적인 페이지를 보여줄 때 적합한 형태이며, 화면 내용을 바꾸려면 새로운 html파일과 css파일을 다받아와야 한다.  \n",
    "예를들어 a와 b를 입력받아 실시간으로 결과를 도출하기 하는 등 동적인 부분을 만들기 위해선 Javascript 라는 프로그래밍 언어를 사용한다."
   ]
  },
  {
   "cell_type": "markdown",
   "id": "08b0a97c",
   "metadata": {},
   "source": [
    "#### 자바스크립트 함수\n",
    "            <script type=\"text/javascript\">\n",
    "            function doSomething(){\n",
    "                let a = document.getElementById('inputA').value;\n",
    "                let a = document.getElementById('inputB').value;\n",
    "                document.getElementById(\"valueA\").innerHTML=a;\n",
    "                document.getElementById(\"valueB\").innerHTML=b;\n",
    "                document.getElementById(\"valueC\").innerHTML=Number(a)+Number(b);             "
   ]
  },
  {
   "cell_type": "markdown",
   "id": "fd71059b",
   "metadata": {},
   "source": [
    "위의 코드를 살펴보자.  \n",
    "javascript의 코드는 script 태그안에 담는다. 그 안에 새로 만든 자바스크립트 함수 doSomething( )을 선언하였다.  \n",
    "먼저 문서 안의 요소 중 id가 valueA, valueB인 요소의 텍스트를 각각 a, b로 치환하며 id가 valueC인 요소의 텍스트는 숫자로 바꿔 더한 값으로 치환한다."
   ]
  },
  {
   "cell_type": "markdown",
   "id": "51bbcc55",
   "metadata": {},
   "source": [
    "#### 자바스크립트 함수에 활용할 HTML 태그 추가\n",
    "\n",
    "        <label for=\"inputA\">a</label>\n",
    "        <input id=\"inputA\" value=1 onkeyup=\"doSomething()\">\n",
    "        <label for=\"inputB\">b</label>\n",
    "        <input id=\"inputB\" value=2 onkeyup=\"doSomething()\">\n",
    "\n",
    "        <p><span id=\"valueA\">1</span>+<span id=\"valueB\">2</span>=<span id=\"valueC\">3</span>입니다.</p>"
   ]
  },
  {
   "cell_type": "markdown",
   "id": "a4174988",
   "metadata": {},
   "source": [
    "위에서 만든 함수 doSomething( )에 사용한 inputA, inputB라는 id로 input태그를 추가한다. input태그에는 onkeyup=\"doSomething( )\"을 추가해 이 요소에서 키보드의 키가 눌렸다가 올라가면 함수가 실행되도록 설정한다. 결과값을 출력하는 문장은 함수 값을 반영할 수 있게 span태그를 사용해 추가한다.  이제 입력란에 숫자를 입력하면 실시간 결과값이 업데이트가 된다.  \n",
    "이처럼 자바스크립트를 활용하면 방문자의 행동에 따라 실시간으로 업데이트되는 동적인 웹 페이지를 만들 수 있다."
   ]
  },
  {
   "cell_type": "markdown",
   "id": "c414cffe",
   "metadata": {},
   "source": [
    "### 현재 시간 확인 기능추가하기"
   ]
  },
  {
   "cell_type": "markdown",
   "id": "2b99530b",
   "metadata": {},
   "source": [
    "1. 함수추가  \n",
    "script 태그안에 whatTimeIsIt()이라는 함수를 추가해서 alert(new Date())를 추가해 현재 시간을 팝업으로 보여주는 기능  \n",
    "2. 버튼추가  \n",
    "body 태그안에 button onclick=\"whatTimeIsIt()을 추가."
   ]
  },
  {
   "cell_type": "code",
   "execution_count": null,
   "id": "5361bbbb",
   "metadata": {},
   "outputs": [],
   "source": []
  },
  {
   "cell_type": "code",
   "execution_count": null,
   "id": "8d16df9d",
   "metadata": {},
   "outputs": [],
   "source": []
  }
 ],
 "metadata": {
  "kernelspec": {
   "display_name": "Python 3",
   "language": "python",
   "name": "python3"
  },
  "language_info": {
   "codemirror_mode": {
    "name": "ipython",
    "version": 3
   },
   "file_extension": ".py",
   "mimetype": "text/x-python",
   "name": "python",
   "nbconvert_exporter": "python",
   "pygments_lexer": "ipython3",
   "version": "3.8.8"
  }
 },
 "nbformat": 4,
 "nbformat_minor": 5
}
