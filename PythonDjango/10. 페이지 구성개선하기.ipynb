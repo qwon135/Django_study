{
 "cells": [
  {
   "cell_type": "markdown",
   "id": "d0f14e4a",
   "metadata": {},
   "source": [
    "# 10. 페이지 구성개선하기\n",
    "## 현재 포스트 목록 페이지의 문제\n",
    "현재 만든 페이지의 가장 큰 문제는 대표 이미지가 없는 포스트는 오류가 발생한다는 것이다. (아직 if문을 사용하지않아서)  \n",
    "두번 째 문제는 심미적인 부분이다. 장문을 쓰면 미리보기로 앞부분안 보여주는 기능이 필요하다.\n",
    "### 문제 다시 살펴보기\n",
    "문제를 자세히보기 위해 임의의 장문을 추가한다. 그리고 img를 지우면 오류가뜬다.   \n",
    "오류가 뜨는 부분은   이부분이다. <a href=\"#!\"><img class=\"card-img-top\" src=\"{{p.head_image.url}}\" alt=\"...\" /></a>  \n",
    "___"
   ]
  },
  {
   "cell_type": "markdown",
   "id": "68d36671",
   "metadata": {},
   "source": [
    "## 템플릿 파일에서 if문 사용하기\n",
    "템플릿(HTML) 에서 if문을 사용해야 하는 이유는 앞에서도 알 수 있다. 이미지가 있을 때는 이미지를 출력하고 없을 때는 보여주지 않도록 설정해야 한다.  \n",
    "### if-else 문으로 조건따라 이미지 보여주기\n",
    "#### (1) 이미지가 있을 경우 보여주기\n",
    "post_lllist.html의 post부분에서 {% if p.head_image %}와 {% end if %}로 img 태그를 감싸고 alt=\"{{p}} head image\"로 수정한다. 이는 img가 없을 때 보여주는 text를 의미한다. 이제 이미지가 없어도 포스트가 잘 나타난다.\n",
    "#### (2) 이미지가 없을 경우 사용할 임의의 이미지가 가져오기\n",
    "이미지가 없을 때 휑해 보이므로 임의의 이미지를 보여주는것도 좋은 방법이다. {% else %}를 추가하고 아래에 똑같은 img 코드를 적고 src를 \"http://picsum.photos/800/200\" alt=\"random_image\" 를추가해준다. 그럼 임의의 이미지가 나타난다.\n",
    "#### (3) 임의의 이미지 고정하기\n",
    "임의의 이미지에 2가지 문제가 있다. 첫째는 웹 브라우저를 새로고침 할때마다 계속 이미지가 바뀐다는 것이고 이미지가 없는 포스트는 모두 같은 이미지가 보여진다는 것이다.\n",
    "해당 홈페이지 Lorem Pcisum에선 이런 문제를 해결하기 위해 seed를 주는 방법을 제공한다. src코드 사이에 seed/id값/을 입력하면 해당 id값에는 매번 동일 이미지를 나타낸다. 각 Post레코드는 고유한 pk값을 가지므로 id값에 pk를 넣으면 원하는 결과를 얻을 수 있다.  \"http://picsum.photos/seed/{{p.id}}/800/200\" \n",
    "\n",
    "또한 상세페이지에도 똑같이 추가를 해줘야한다.\n",
    "### 첨부 파일이 있는 경우 다운로드 버튼 만들기\n",
    "file_upload 필드로 파일 첨부기능을 구현하였지만 관리자 페이지에서만 보인다. 이제 첨부파일을 만들 수 있는 버튼을 만들어보자.\n",
    "#### (1) 첨부파일 다운로드 버튼 만들기\n",
    "if문을 사용해 첨부파일이 있을 때는 버튼이 보이도록 post_detail.html을 수정해준다. 부트스트랩 공식 홈페이지에서 마음에 드는 버튼을 추가해 a태그안에 Download를 명시해준다. 이제 업로드한 파일을 내려받을 수 있다.\n",
    "#### (2) 첨부 파일명과 확장자 아이콘 나타내기\n",
    "현재는 사용자가 어떤 파일을 내려받는지 알수가없다. Download 버튼에 첨부된 파일 이름과 첨부 파일의 확장자를 알려주는 아이콘을 넣어보자.  \n",
    "blog/models.py 에서 새로운 함수를 생성한다. 파일명만 나오게 하려면  os 모듈을 사용해야한다. 확장자명을 return해주는 함수를 만든다.  \n",
    "사용할 아이콘 이미지는 font awesome에서 가져온다. 그전에 자바스크립트 코드를 추가하는 것도 잊지말자.  \n",
    "cjaqnvkdlfdl csv, excel, word 형식일 때는 확장자에 맞는 아이콘을 사용하고 나머지는 일반적인 파일 아이콘 아이콘을 사용한다. 원하는 아이콘을  골라 소스를 다운로드 버튼에 추가한다. 확장자 마다 다른 아이콘을 사용하기 위해 if문을사용하고 마지막으로 {{post.get_file_name}} 으로 파일명을 출력한다. 템플릿에서 함수를 사용할때는 괄호를 사용하지 않는다. \n",
    "___"
   ]
  },
  {
   "cell_type": "markdown",
   "id": "2804c5b2",
   "metadata": {},
   "source": [
    "## 템플릿 필터 사용하기\n",
    "현재 포스트 목록 페이지에서도 본문 내용 전체를 보여준다. 이러면 본문이 길 경우 사용자가 목록을 한눈에 살피기 어렵다. 요약문 또는 앞부분 일부만 보여주는 미리보기 기능을 추가하자.\n",
    "### 포스트 미리보기 기능 구현\n",
    "장고는 이런문제를 해결하는 방법을 제공한다. 템플릿에서 truncatewords 혹은 truncatechars를 사용하면 된다. 'truncate'는 끝을 자른다는 의미이다. \n",
    "- truncatewords는 문자열을 단어 수 기준으로 자른다.\n",
    "- truncatechars는 글자 수 기준으로 자른다.\n",
    "#### (1) 출력 글자 수 제한하기\n",
    " p.content뒤에  | truncatewords:45 를 입력하면 45개의 단어만 입력된다. (| truncatewchars:45 는 45개의 글자이다.)\n",
    "#### (2) 요약문 필드 만들기\n",
    "여기서 더 나아가 포스트의 요약문을 보여주는 hook_text라는 새 필드를 만들어보자. (예를들면 뉴스 아래에서 사람들의 관심을 끄는 메시지를 보여주는 방식이 있다.)  \n",
    "models.py에 hook_text가 필드가 있을 때만 필드를 보여 보여주도록 하자. CharField를 사용해 hook_text글자 수를 100자 까지만 작성할 수 있게 하자.  hook_text=models.CharField(max_length=100, blank=True) 와 같은 코드로 models.에 hook를 정의해준다.\n",
    "#### (3) 템플릿 파일 수정\n",
    "이제 템플릿 파일인 post_list를 수정해주자. hook_text가 있을 때만 아래에 글을 넣어주는데 구분이가게 회색으로 글씨를 설정해준다."
   ]
  }
 ],
 "metadata": {
  "kernelspec": {
   "display_name": "Python 3",
   "language": "python",
   "name": "python3"
  },
  "language_info": {
   "codemirror_mode": {
    "name": "ipython",
    "version": 3
   },
   "file_extension": ".py",
   "mimetype": "text/x-python",
   "name": "python",
   "nbconvert_exporter": "python",
   "pygments_lexer": "ipython3",
   "version": "3.8.8"
  }
 },
 "nbformat": 4,
 "nbformat_minor": 5
}
