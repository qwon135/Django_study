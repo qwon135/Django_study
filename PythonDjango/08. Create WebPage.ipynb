{
 "cells": [
  {
   "cell_type": "markdown",
   "id": "81a78677",
   "metadata": {},
   "source": [
    "# 8. 웹 페이지만들기\n",
    "___\n",
    "\n",
    "## URL 설정하기\n",
    "웹 페이지에는 대문, 블로그 페이지, 자기소개 페이지 까지 있어야하고 로그인, 로그아웃을 위한 페이지도 있어아한다. 각 포스트를 클릭할 때마다 내용을 자세히 보여줄 새 웹 페이지도 필요하다. 이처럼 웹 사이트 방문자가 여러 정보에 접근할 수 있게 첫 페이지 뿐만 아니라 모든 페이지마다 각각 URL을 추가로 저장해야 한다.\n",
    "### 표지판 역할을 하는 ulrs.py\n",
    "urls.py를 열어보자. 이 파일은 장고로 개발한 웹 사이트에 방문했을 때 어떤 페이지로 들어가야 하는지를 알려준다. 예를들어 http://127.0.0.1:8000/admin/ 에 접속하면 관리자 페이지로 넘어갈 수 있다. 이는 방문자가 서버IP/admin/으로 접속하면 admin.stie.urls에 정의된 내용을 찾아 처리하고 정해놓았기 때문이다. 현재는 IP주소 뒤에 admin을 붙이는 경우 밖에 정의되어있다.\n",
    "### 필요한 페이지 살펴보기\n",
    "대문페이지, 블로그페이지, 자기소개페이지에 필요한 하위 페이지에는 어떤 것들이 있는지 알아보자.  \n",
    "#### 대문 페이지\n",
    "도메인 또는 서버 IP 주소 뒤에 아무것도 쓰지 않았을 경우, 방문자를 맞이하는 페이지이므로 하위 페이지가 따로 필요없다.\n",
    "#### 블로그 페이지 \n",
    "블로그 페이지는 포스트 목록 페이지와 포스트 상세 페이지로 나누어 구성할 것이다. 도메인 뒤에 /blog/만 붙였을 때는 블로그의 여러 포스트를 목록 형태로 보여주는 포스트 목록 페이지가 필요하다. 그래야 방문자가 여러 포스트 중에서 원하는 내용을 훑어볼 수 있다. 그중 마음에 드는 포스트를 클릭 할 때 전문과 댓글을 보여주는 상세 페이지가 필요하다.  \n",
    "이때 Url은 ' 도메인/blog/포스트의 pk/ 로 한다. 각각 레코드는 고유한 pk값을 갖고 있으므로 이 값을 이용해서 개별 포스트를 구분하는 것이 좋다.\n",
    "#### 자기소개 페이지\n",
    "자기소개 페이지는 도메인 뒤에 /abount_me/를 붙일 때 나타나도록 한다.  \n",
    "### 포스트 목록 페이지 만들기\n",
    "현재 까지는 관리자 페이지만 볼 수 있다. 이제 웹 방문자에게 포스트를 보여줄 수 있는 포스트 목록 페이지를 만들어보자.\n",
    "#### (1) 블로그 페이지 URL로 접속하기\n",
    "우선 서버를 실행 시키고 http://127.0.0.1:8000/blog/ 를 입력하면 오류가 발생한다. 아직 admin내용 밖에 없기 때문이다.\n",
    "#### (2) blog/urls.py 만들기\n",
    "urls.py에 blog/로 접속하는 경우를 추가하자. 방문자가 blog/로 접속한다면 blog앱 폴더의 urls.py를 참고하도록 설정하는 것이다.  \n",
    "blog_project 폴더의 urls.py안의 urlpatterns에는 path('blog',include('blog.urls'))를 추가해주고  \n",
    "blog 앱 폴더에 urls.py를 만들어 준다.\n",
    "___"
   ]
  },
  {
   "cell_type": "markdown",
   "id": "bcd92fb5",
   "metadata": {},
   "source": [
    "## FBV로 페이지 만들기\n",
    "urls.py에 들어갈 함수나 클래스 등은 views.py에서 정의한다. 이제 views.py를 만들어보자.\n",
    "### FBV와 CBV\n",
    "FBV(Function based view)는 말 그대로 함수에 기반을 둔 방법이다. 함수를 직접 만들어서 원하는 기능을 구현할 수 있다.\n",
    "CBV(Class based view)는 장고가 제공하는 클래스를 활용해 구현하는 방법이다. 장고는 웹 개발을 할 때 반복적으로 많이 구현되는 것들은 클래스로 미리 만들어서 제공되고있다.\n",
    "### FBV로 포스트 목록 페이지 만들기\n",
    "#### (1) blog/urls.py 내용 추가하기\n",
    "blog 앱 폴더 안의 urls.py 내용을 수정해보자. views.py에 index라는 함수를 만들어 FBV로 구현할 것이다.  \n",
    "from.import views는 현재 폴더에 있는 view.py를 사용할 수 있게 가져온다는 뜻이다. 그리고 입력된 URL이 blog/로 끝난다면 import한 views.py에 정의된 index()함수를 실행하도록 코드를 작성한다.\n",
    "#### (2) blog/views.py에 index()함수 정의하기\n",
    "index()함수는 다음과 같이 정의한다.\n",
    "\n",
    "def index(request):  \n",
    "    return render(  \n",
    "        request,  \n",
    "        'blog/index.html'  \n",
    "    )  \n",
    "    \n",
    "이 함수의 역할은 아직 단순하다 장고에서 제공하는 render()함수를 사용해 템플릿 폴더에서 blog폴더의 index.html 파일을 찾아 방문자에게 보내준다. 이제 웹 브라우저로 다시 http://127.0.0.1:8000/blog/ 에 접속하면 'TemplateDoesNotExist at /blog' 라는 템플릿을 찾을 수 없다는 메시지가 뜬다. 아직 index.html 파일이 없기 때문이다.\n",
    "#### (3) 템플릿 파일 만들기\n",
    "blog/templates/blog폴더를 새로 만들고 index.html을 만들어준다. 내용은 아래와 같다.\n",
    "\n",
    "<!DOCTYPE html>\n",
    "<html lang='ko'>\n",
    "<head>\n",
    "    <meta charset=\"UTF-8\">\n",
    "    <title>Blog</title>\n",
    "</head>\n",
    "<body>\n",
    "    <h1>Blog</h1>\n",
    "</body>\n",
    "</html>\n",
    "\n",
    "이제 다시 접속을하면 위와 같 Blog 글자가 있는사이트가 뜬다.\n",
    "#### (4) 블로그 페이지에 포스트 목록 나열하기\n",
    "이제 여기에 포스트를 쭉 나열해보자. views.py에 개선이 필요한데 먼저 models.py에 정의되어 있는 Post 모델을 import한다. 그리고 index()함수에서 Post.objects.all()로 모 든 Post레코드를 가져와 posts에 저장한다. 마지막으로 render()함수안에 posts를 딕셔너리 형태로 추가한다.\n",
    "\n",
    "\n",
    "def index(request):  \n",
    "    posts=Post.objects.all()  \n",
    "    return render(  \n",
    "        request,  \n",
    "        'blog/index.html',  \n",
    "        {  \n",
    "            'posts':posts,  \n",
    "        }  \n",
    "    )  \n",
    "\n",
    "여기서 Post.objects.all() 를 자세히 보자 이런 방식으로 view.py에서 DB에 쿼리를 날려 원하는 레코드를 가져 올 수 있다.\n",
    "> 쿼리란? \n",
    "> 쿼리는 DB에서 데이터를 가져오거나 수정, 삭제하는 등의 행위를 하기 위핸 요청이다. 장고에서 사용할 수 있는 쿼리명령어는 다음과 같다.  \n",
    "> all() filter() oreder_by() create() delete()\n",
    "\n",
    "이제 템플릿 파일인 index.html도 수정해주어야 한다. views.py의 index()함수에서 쿼리를 통해 받아온 Post 레코드 들을 for무을 이용해  뿌려줘야한다. 이때 for문에 해당하는 부분은 {% %}로 감싸고 , 단순 변수인 부분은 {{}}로 감싸줘아한다.\n",
    "\n",
    "{% for p in posts%}    \n",
    "    태그{{p}} / 태그  \n",
    "{% endfor %}     \n",
    "\n",
    "이제 새로고침을 하면 Post모델에서 __str()__  정의한 대로 포스트 제목과 번호가 나타난다. \n",
    "#### (5) Post 모델의 필드값 보여주기\n",
    "for 문을 통해 인스턴스화 된 Post모델의 필드는 닷(.) 기호로 접근할 수 있다. 다음과 같이 index.html을 수정해서 화면에 필드 값을 뿌려준다.  "
   ]
  },
  {
   "cell_type": "markdown",
   "id": "6bdc917e",
   "metadata": {},
   "source": [
    "{% for p in posts%}    \n",
    "    <hr/>\n",
    "    <h2>{{p.title}}</h2>\n",
    "    <h4>{{p.created_at}}</h4>\n",
    "    <p>{{p.content}}</p>\n",
    "{% endfor %}    "
   ]
  },
  {
   "cell_type": "markdown",
   "id": "628adc3a",
   "metadata": {},
   "source": [
    "새로 고침을 해보면 각각의 필드값까지 나타난다."
   ]
  },
  {
   "cell_type": "markdown",
   "id": "848b279c",
   "metadata": {},
   "source": [
    "#### (6) 최신 포스트부터 보여주기\n",
    "일반적으로 블로그에서는 최신 글부터 맨 위에 배치한다. order_by를 사용해주면 된다. blog/views.py를 수정하면 pk값이 역순이된다.  \n",
    "새로 고침 해보면 최신 순으로 글이 나열된다."
   ]
  },
  {
   "cell_type": "markdown",
   "id": "5b4d4742",
   "metadata": {},
   "source": [
    "### FBV로 포스트 상세 페이지 만들기\n",
    "내용이 긴 글일 경우 상세 페이지가 필요하다. 상세페이지를 만들어보자.\n",
    "#### (1) 포스트 상세 페이지 URL 정의하기\n",
    "blog/urls.py에  '__path('<int:pk>/',views.single_post_page__ '추가해준다. 웹 사이트 방문자가 주소창에서 도메인 뒤에 blog를 붙여 입력하면 서버는 blog_project폴도의 urls.py에서 '도메인 뒤에 blog가 붙었을 때는 blog/urls.py에서 처리한다' 라는 정의에 따라 blog/urls.py에 접근한다. 그리고 bolg뒤에 아무것도 없다면 blog/views.py에 정의된 index()함수에서 처리를 하게 된다.  \n",
    "\n",
    "하지만 이번에는 만약 blog/뒤에 int형태의 값이 붙는 URL이라면 blog/views.py의 single_post_page() 함수에 정의된 대로 처리하라는 내용을 추가하였다. \n",
    "#### (2) single_post_page() 함수 정의하기\n",
    "이제 views.py에서 single_post_page를 정의하여 주자.\n",
    "\n",
    "def single_post_page(request,pk):  \n",
    "    post=Post.objects.get(pk=pk)  \n",
    "  \n",
    "    return render(  \n",
    "        request,  \n",
    "        'blog/single_post_page.html',  \n",
    "        {  \n",
    "            'post':post,  \n",
    "        }  \n",
    "    )      "
   ]
  },
  {
   "cell_type": "markdown",
   "id": "689bdd7d",
   "metadata": {},
   "source": [
    "매개 변수가 request 뿐이던 index()함수와 달리 single_post_page()함수는 pk를 매개변수로 더 받는다. post.object.get()명령은 괄호 안의 조건을 만족하는 Post 레코드를 가져오라는 뜻이다 Post모델의 pk필드값이 sigle_post_page() 함수의 매개변수 pk와 같은 레코드를 가져오라는 의미이다. 그 후 가져온 Post레코드 하나를 single_post_page.html에 담아 렌더린 한다.\n",
    "#### (3) URL을 이용한 쿼리 확인하기\n",
    "이제 http://127.0.0.1:8000/blog/1/ 를 입력하면 TemplateDoseNotExist오류가 발생했다. 아직 single_post_page.html을 쓰지않았기 때문이다.  \n",
    "#### (4) 탬플릿 파일 만들기\n",
    "blog/template/blog 폴더에 single_post_page.html을 만들자  "
   ]
  },
  {
   "cell_type": "markdown",
   "id": "bccd9d70",
   "metadata": {},
   "source": [
    "<!DOCTYPE html>\n",
    "<html lang='ko'>\n",
    "<head>\n",
    "    <meta charset=\"UTF-8\">\n",
    "    <title>{{p.title}} - Blog</title>\n",
    "</head>\n",
    "<body>\n",
    "<nav> \n",
    "    <a href=\"/blog/\">Blog</a>   \n",
    "</nav>    \n",
    "<h1>{{post.title}}</h1>\n",
    "<h4>{{post.created_at}}</h4>\n",
    "<p>{{post.content}}</p>\n",
    "<hr/>\n",
    "<h3>댓글 칸(미정)</h3>\n",
    "</body>\n",
    "</html>"
   ]
  },
  {
   "cell_type": "markdown",
   "id": "98f81e24",
   "metadata": {},
   "source": [
    "다시 접속하면 위 처럼 자세한 상세 페이지가 나온다."
   ]
  },
  {
   "cell_type": "markdown",
   "id": "6633a417",
   "metadata": {},
   "source": [
    "### 포스트 제목에 링크 만들기\n",
    "이제 포스트 상세페이지에서 맨 위에 Blog 링크를 클릭하면 포스트 목록 페이지로 이동 할 수이 있는것 처럼, 포스트 목록 페이지에서 포스트 제목(title)을 클릭하면 해당 포스트의 상세 페이지로 갈 수 있게 수정해보자.\n",
    "#### (1) index.html 수정하기\n",
    "index.html을 다시열고 title부분을 a태그로 감싸고 href={{p.get_absolute_url}} 을 추가해주자.  \n",
    "다시 Blog 페이지로 들어가보면 링크가 달렸지만 이동하지않는다.\n",
    "#### (2) get_absolute_url() 함수 정의하기\n",
    "웹 브라우저에서 관리자모드로 html 내용을 보면 href값이 비어있다. 함수 정의를 하지 않아서이다. 함수를 정의하기 전에 관리자 페이지의 오른쪽 위를 보면 History 버튼만 있다는 것을 기억하자.\n",
    "blog/models.py의 Post 모델에서 get_absolute_url()함수를 추가해보자. \n",
    "\n",
    "def get_absolute_url(self):  \n",
    "        return f'/blog/{self.pk}'  \n",
    "\n",
    "/blog/레코드의 pk/ 를 return하도록 정의해주고 다시 관리자 페이지를 열어보면 Histroy옆에 view on stie 버튼이 생겼다. 이 버튼을 누르면 상세 페이지로 이동이 가능하다."
   ]
  },
  {
   "cell_type": "markdown",
   "id": "916ef746",
   "metadata": {},
   "source": [
    "### 대문 페이지와 자기소개 페이지 만들기\n",
    "single_pages앱의 대문 페이지와 자기소개 페이지도 만들어보자.\n",
    "#### (1) single_pages 앱을 위한 URL 지정하기\n",
    "먼저 대문 페이지를 만들자, 대문 페이지는 도메인 뒤에 아무것도 붙이지 않았을 때 나타나는 페이지이다. 현재는 도메인만 입력하면 404 오류가 뜬다.  \n",
    "blog_project/urls.py에 __path('',include('single_pages.urls'))__ 을 추가해준다. \n",
    "#### (2) 대문 페이지와 자기소개 페이지의 URL 지정하기\n",
    "single_pages 앱 폴더에 urls.py를 만들고 2가지 URL 패턴에 대한 명령을 추가한다.  \n",
    "1. view.py의 landing() 함수 : 도메인 뒤에 아무것도 없을 때 대문페이지를 보여준다.\n",
    "2. about_me() 함수: 도메인 뒤에 about_me/가 붙었을때는 about_me() 함수 실행해 자기소개 페이지를 보여준다.\n",
    "\n",
    "urlpatterns=[  \n",
    "    path('about_me/',views.about_me),  \n",
    "    path('',views.landing),  \n",
    "]  "
   ]
  },
  {
   "cell_type": "markdown",
   "id": "68b4ab7b",
   "metadata": {},
   "source": [
    "#### (3) views.py에 함수 정의하기\n",
    "landing()함수와 about_me()함수를 정의하자 landing 함수에서는 landing.html을 보여주고 about_me 함수는 abount_me.html을 보여주게 설정한다. single_pages/views.py의 함수들은 DB와 연결할 필요 없이 단순히 html만 연결해주면 되므로 blog앱과 달리 render()함수 내에 딕셔너리로 인자를 전달할 필요가 없다.  \n",
    "#### (4) 템플릿 파일 만들기\n",
    "landing.html과 about_me.html을 만들어주자.\n",
    "___"
   ]
  },
  {
   "cell_type": "markdown",
   "id": "1a46c9d9",
   "metadata": {},
   "source": [
    "## CBV로 페이지 만들기\n",
    "CBV를 사용하면 FBV보다 더 간편하게 페이지를 만들 수 있다. 반복기능을 클래스로 제공해주기 대문이다. 일반적으로 자주 쓰는기능을 개발할 때는 CBV가 효율적이다.\n",
    "### CBV로 포스트 목록 페이지 만들기\n",
    "#### (1) ListView로 포스트 목록 페이지만들기\n",
    "여러 포스트를 나열할 때는 ListView 클래스를 활용하면 된다. views.py의 내용을 모두 주석 처리 해준뒤 FBV에서 만든 index()를 대체할 PostList 클래스를 ListView클래스를 상송해 만든다. \n",
    "#### (2) urls.py\n",
    "이제 blog/urls.py를 열어 URL 끝이 /blog/ 일때 PostList 클라스로 처리하도록 수정한다. 마찬가지로 기존 코드를 주석처리한다.\n",
    "#### (3) 템플릿 파일 지정하기\n",
    "터미널에서 서버를 실행하면 post_list.html 이 필요하다고 뜬다. 장고가 제공하는 ListView는 모델명 뒤에 (언더바)list가 붙은 html 파일을 기본 템플릿으로 사용하도록 설정되어 있다. 즉 Post모델을 사용하면 post_list.html이 필요하다. 두가지 방법으로 해결할 수 있는데\n",
    "1. PostList 클래스에서 template_name을 직접 지정하거나\n",
    "2. post_list.html을 만드는 것이다.\n",
    "tamplate name을 지정하려면 PostList 클래스에 template_name='blog/index.html'을 추가해준다.  \n",
    "하지만 그러면 for문에서 posts로 post를 가져왔었기 때문에 내용이 뜨지않는다. post를 post_list로 수정해주면 잘 뜨는 것을 볼 수 있다.  \n",
    "\n",
    "다시 template_name='blog/index.html'를 삭제하고 index.html 파일을 post_list.html로 이름을 수정해보자.\n",
    "#### (4) 최신 포스트 부터 보여주기\n",
    "CBV기능을 이용해 최신 포스트 부터 나열해보자. ListView도 이 기능을 제공해준다. class postlist에 ordering='-pk' 만 추가해주면된다.\n",
    "### CBV로 포스트 상세 페이지 만들기\n",
    "#### (1) DetailView로 포스트 상세 페이지 만들기\n",
    "이제 CBV로 포스트 상세 페이지를 만들어 보자.  \n",
    "앞에서 레코드를 목록으로 볼때는  ListView를 사용했지만 자세 히 보기 위해선 DetailView를 사용해준다. blog/views.py를 열어  수정해준다.  \n",
    "클래스 PostDetail로 DetailView를 상속해주자.\n",
    "#### (2) urls.py 수정하기\n",
    "이제 single_post_page를 연결해주기위해 url도 수정해주자. path('<int:pk>/',views.postDetail.as_view())로 바꿔주면된다.\n",
    "#### (3) 템플릿 파일 지정하기 \n",
    "마찬가지로 post_detail.html이 없다고 뜨기 때문에 single_post_page.html의 파일명을 post_detail.html로 바꿔주자."
   ]
  }
 ],
 "metadata": {
  "kernelspec": {
   "display_name": "Python 3",
   "language": "python",
   "name": "python3"
  },
  "language_info": {
   "codemirror_mode": {
    "name": "ipython",
    "version": 3
   },
   "file_extension": ".py",
   "mimetype": "text/x-python",
   "name": "python",
   "nbconvert_exporter": "python",
   "pygments_lexer": "ipython3",
   "version": "3.8.8"
  }
 },
 "nbformat": 4,
 "nbformat_minor": 5
}
