{
 "cells": [
  {
   "cell_type": "markdown",
   "id": "aacc3a56",
   "metadata": {},
   "source": [
    "# 4. 부스트 트랩으로 웹 사이트 모양 만들기"
   ]
  },
  {
   "cell_type": "markdown",
   "id": "fb1024a8",
   "metadata": {},
   "source": [
    "## 블로그 페이지 모양 구현하기"
   ]
  },
  {
   "cell_type": "markdown",
   "id": "0a03e7b5",
   "metadata": {},
   "source": [
    "### (1) CSS와 내비게이션 바 가져오기  \n",
    "about_me.html의 navbar 내용을 blog_list.html로 옮긴다."
   ]
  },
  {
   "cell_type": "markdown",
   "id": "91c5982d",
   "metadata": {},
   "source": [
    "### (2) 페이지 내용이 들어갈 부분 구상하기\n",
    "내용이 들어갈 부분은 화면 크기가 midium일 때 8:4, large일 때 9:3이 되도록 설정한다.  \n",
    "이를 위해 container를 class로 갖는 div를 만들고 위아래 여백을 3으로 설정한다. "
   ]
  },
  {
   "cell_type": "markdown",
   "id": "485abed8",
   "metadata": {},
   "source": [
    "### (3) Start Bootstrap에서 템플릿 샘플 찾기\n",
    "부스트 트랩 공식 홈페이지의 Examples 페이지에서 부스트트랩이 적용된 웹페이지 샘플을 다양하게 제공 받을 수 있다.  \n",
    "공식 홈페이지가 아니라도 좋은 사이트가 많은데 대표적으로  Start Bootstrap (http://startbootstrap.com )이 있다.  \n",
    "Templates>Blogs 에 들어가면 웹 사이트 템플릿 예제로 Blog Post나 Blog Home이 나온다.  \n",
    "제공 되는 sample을 보고 필요한 소스코드를 가져와서 입맛에 맞게 수정하면 된다"
   ]
  },
  {
   "cell_type": "markdown",
   "id": "b775e759",
   "metadata": {},
   "source": [
    "### (4) 카드에 구성 요소 담기\n",
    "1단계. BlogHome 예제의 카드 구성 살펴보기.  \n",
    "대표 이미지 - 제목 - 요약문 - Readmpre - 작성일,작성자 등의 구성이다.  \n",
    "  \n",
    "2단계. BlogHome 에제의 소스코드 살펴보기  \n",
    "div태그에 class는 card mb-4로 지정하였으며, img 태그는 class card-img-top으로 하였고 card-body 안에는 card-title과 care-text로 반들어 필요한 내용을 채우고 회생 음영으로 된 작성일과 작성자 부분은 card-footer로 처리한 것을 알 수 잇다.\n",
    "#### 팁 : placehold.com사용하기  \n",
    "http://placeholder.com 라는 사이트 img 태그에 삽입할 경로를 제공하여준다. 원하는 폭과 높이에 맞는 그림을 보내준다. 이 서비스는 사진을 넣을 때 어떤 모습인지 먼저 확인하고 싶을 때 사용하면 좋다.  \n",
    "  \n",
    "3단계. 검색 창 카드와 카테고리 카드 살펴보기.  \n",
    "이제 Blog Home 예제의 오른쪽에 있는 검색창과 카테고리 카드를 살펴보자.  카드와 달리 header가 있으며 카드 내용을 구분할 수 있게 음영 처리가 되어있다. 검색 창의 소스코드는 h5 태그의 class는 card-header이다. 검색 창은 class가 card-body인 div태그안에 들어있다.  \n",
    "카테고리 카드도 창 카드와 비슷하지만 div태그의 class가 row로 지정되어있어 grid를 이용하 행을 6:6으로 나눈것을 알 수 있다. 또한 전체 화면에서만 12분할 하는 것이 아닌 요소 안에서도 12분할 하여 화면을 구성함을 알 수 있다.  \n",
    "이 세가지 요소를 모두 blog_list.html로 복사한다.  이제 꽤 그럴싸한 블로그가 만들어 졌다."
   ]
  },
  {
   "cell_type": "markdown",
   "id": "ac659eba",
   "metadata": {},
   "source": [
    "### (5) 페이지 이동 버튼과 푸터 추가하기\n",
    "1단계. BlogHome 예제에서 pagination 소스 코드 가져오기.  \n",
    "블로그 포스트가 수백개라면 한페이지에 나타내는 것이 비효율적이므로 5나 10페이지의 단위로 보여주고 다음 페이지로 이동할 수 있는 버튼을 만드는 것이 합리적이다. pagination을 사용하면 페이지 이동 버튼을 쉽게 만들 수 있다. "
   ]
  },
  {
   "cell_type": "code",
   "execution_count": null,
   "id": "150a95ce",
   "metadata": {},
   "outputs": [],
   "source": []
  },
  {
   "cell_type": "code",
   "execution_count": null,
   "id": "f49da763",
   "metadata": {},
   "outputs": [],
   "source": []
  },
  {
   "cell_type": "code",
   "execution_count": null,
   "id": "4a977baa",
   "metadata": {},
   "outputs": [],
   "source": []
  }
 ],
 "metadata": {
  "kernelspec": {
   "display_name": "Python 3",
   "language": "python",
   "name": "python3"
  },
  "language_info": {
   "codemirror_mode": {
    "name": "ipython",
    "version": 3
   },
   "file_extension": ".py",
   "mimetype": "text/x-python",
   "name": "python",
   "nbconvert_exporter": "python",
   "pygments_lexer": "ipython3",
   "version": "3.8.8"
  }
 },
 "nbformat": 4,
 "nbformat_minor": 5
}
