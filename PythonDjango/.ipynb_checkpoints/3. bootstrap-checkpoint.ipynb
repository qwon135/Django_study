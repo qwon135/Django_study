{
 "cells": [
  {
   "cell_type": "markdown",
   "id": "29c03e88",
   "metadata": {},
   "source": [
    "# 3. bootstrap"
   ]
  },
  {
   "cell_type": "markdown",
   "id": "cfb83510",
   "metadata": {},
   "source": [
    "## 부트스트랩이란  \n",
    "Bootstrap은 웹 개발에 있어 보편적으로 널리 쓰이는 구성 요소들을 미리 디자인 해놓은 툴킷(toolkit)이다. 경험이 없어도 그럴싸한 페이지를 구현할 수 있고. 다향한 화면 크기에 대응할 수 있는 반응형 웹을 지향하고 있으므로 화면크기에 따라 유연하게 변화하는 UX/UI를 적용할 수 있다."
   ]
  },
  {
   "cell_type": "markdown",
   "id": "40a094e2",
   "metadata": {},
   "source": [
    "부트스트랩 공식 홈페이지에서 CDN을 가져온다.  \n",
    "CDN이란?  \n",
    "사람들이 자주 사용하는 CSS,js파일등을 모아둔 곳, 방문자가 접속 지역에 따라 가까운 서버에서 해당 파일을 받아볼 수 있다."
   ]
  },
  {
   "cell_type": "markdown",
   "id": "22eba6f0",
   "metadata": {},
   "source": [
    "https://getbootstrap.com/docs/5.1/components/navbar/\n",
    "\n",
    "공식 홈페이지에서 마음에드는 Navbar을 찾을 수 있다."
   ]
  },
  {
   "cell_type": "markdown",
   "id": "d5d793fe",
   "metadata": {},
   "source": [
    "### container로 레이아웃 적용하기"
   ]
  },
  {
   "cell_type": "markdown",
   "id": "ab997b0e",
   "metadata": {},
   "source": [
    "웹 브라우저에서 현재 화면을 보면 구성요소들 간의 여백이 없고 너무 왼쪽으로 붙어있다. 레이아웃을 적용하면 구성요소를 보기 좋게 배치할 수 있다.  \n",
    "부스트트랩의 container를 사용하면 페이지 구성을 위한 레이아웃을 간단히 만들 수 있다."
   ]
  },
  {
   "cell_type": "markdown",
   "id": "a93308a9",
   "metadata": {},
   "source": [
    "about_me.html에서 내용을 div 태그로 감싸고 class를 container로 설정한다.  \n",
    "nav 태그에도 container를 적용하면 내비게잉션 바에도 여백이 생긴다."
   ]
  },
  {
   "cell_type": "markdown",
   "id": "b39049d4",
   "metadata": {},
   "source": [
    "### grid로 웹 페이지 구성 관리하기  \n",
    "부스트 트랩의 grid기능을 사용하면 웹 페이지를 세로 12칸으로 나누어 관리할 수 있다. 이 기능을 사용하면 화면 크기를 다양하게 바꾸어도 그 크기에 맞게 웹 페이지 모양도 바뀌어 나타난다. "
   ]
  },
  {
   "cell_type": "markdown",
   "id": "64e6bb2f",
   "metadata": {},
   "source": [
    "div태그에 class=\"row\"를 추가 한다. '이 안에 있는 내용을 행 하나로 보겠다'는 의미이다. 그리고 2개의 div 태그를 추가로 생성,  \n",
    "class=\"col-9\" , class=\"col-3\"으로 설정하는데 9칸 짜리열과 3칸짜리 열로 나눈다는 의미이다. 9칸짜리 열에는 텍스트 3칸짜리 열에는 사진을 넣는다.  \n",
    "img의 클래스를 class=\"img-fluid w-100\"로 설정하면 3칸짜리 열에 해당하는 부분의 폭에 꽉차게 크림 높이가 조정된다."
   ]
  },
  {
   "cell_type": "markdown",
   "id": "f8e8a666",
   "metadata": {},
   "source": [
    "### 화면 크기에 따라 구성도 바꾸기  \n",
    "div 태그의 class='row  아래에 똑같이 div 태그 class='row' 를 추가하면 새로운 행이 하나더 생기는 것을 알 수 있다.  \n",
    "위에서 col-9, col-3 으로 각 열의 크기를 지정했던 것과 달리 크기를 지정하지 않아도 부스트트랩이 각 열에 균등하게 크기를 배분한다. (12칸 중 3개이므로 4개씩)  \n",
    "또한 col-sm 에서 sm은 화면의 크기가 small일 때만 적용하는 기준이라는 의미이다.  \n",
    "그 외에도 md, lg, xl, fluid 등이 있다."
   ]
  },
  {
   "cell_type": "markdown",
   "id": "6c607f99",
   "metadata": {},
   "source": [
    "\n",
    "    <div class=\"col-sm col-lg-6 bg-info\">\n",
    "      one of three Columns\n",
    "    </div>\n",
    "    <div class=\"col-sm col-lg-3 bg-secondary\">\n",
    "      two of three Columns\n",
    "    </div>\n",
    "    <div class=\"col-sm col-lg-3 bg-warning\">\n",
    "      three of three Columns\n",
    "    \n"
   ]
  },
  {
   "cell_type": "markdown",
   "id": "119b2623",
   "metadata": {},
   "source": [
    "위 와같이작성시 화면이 sm일때는 균등한 열로 lg일때는 6:3:3의 비율로 열이 보인다.    "
   ]
  },
  {
   "cell_type": "markdown",
   "id": "6b1cc919",
   "metadata": {},
   "source": [
    "<div class=\"col-sm col-lg-6 bg-info\">\n",
    "  one of three Columns\n",
    "</div>\n",
    "<div class=\"col-sm col-lg-3 bg-secondary\">\n",
    "  two of three Columns\n",
    "</div>\n",
    "<div class=\"col-sm col-lg-3 bg-warning\">\n",
    "  three of three Columns"
   ]
  },
  {
   "cell_type": "markdown",
   "id": "0fb262bb",
   "metadata": {},
   "source": [
    "### 열 마다 이미지 추가하기"
   ]
  },
  {
   "cell_type": "markdown",
   "id": "7598f510",
   "metadata": {},
   "source": [
    "grid를 활용 하여 열마다 이미지를 넣어 포트폴리오를 만들어보자.  두번 째 행안의 맨 위에 div태그를 추가하고 클래스는 col-12로 지정한 후 h2태그로 타이틀 제목 Portfolio를 추가한다. 열마다 텍스트를 지우고 img태그를 추가하여 src로 경로를 지정해주면 그럴싸한 페이지가 나온다."
   ]
  },
  {
   "cell_type": "markdown",
   "id": "7479f001",
   "metadata": {},
   "source": [
    "<div class=\"row\">\n",
    "    <div class=\"col-12\">\n",
    "        <h2>spider-man</h2>\n",
    "    </div>\n",
    "    <div class=\"col-sm col-lg-5 bg-danger\">\n",
    "        <img src=\"image_a.jpg\" class=\"img-fluid w-100\">\n",
    "    </div>\n",
    "    <div class=\"col-sm col-lg-4 bg-dark\">\n",
    "        <img src=\"image_b.jpg\" class=\"img-fluid w-100\">\n",
    "    </div>\n",
    "    <div class=\"col-sm col-lg-3 bg-danger\">\n",
    "        <img src=\"image_c.jpg\" class=\"img-fluid w-100\">\n",
    "    </div>\n",
    "  </div>\n",
    "</div>   "
   ]
  },
  {
   "cell_type": "markdown",
   "id": "b8dfedd2",
   "metadata": {},
   "source": [
    "### spacing으로 간격주기  \n",
    "만든 웹 페이지를 보면 Navbar와 페이지 내용의 간격이 너무 가깝다. 부스트트랩의 spacing 기능을 통해 마진(margin)과 패딩(padding)을 줄일 수 있다.  \n",
    "마진은 내용 경계 바깥쪽으로 간격을 두는 방법이고, 패딩은 내용 경계 안쪽으로 간격을 두는 방법이다."
   ]
  },
  {
   "cell_type": "markdown",
   "id": "96511958",
   "metadata": {},
   "source": [
    "(1) 네비게이션 바와 내용 사이에 마진 넣기  \n",
    "부트스트랩에서는  요소 class에 m-숫자를 추가해 마진을 줄 수있다.  \n",
    "mt-숫자 : 위에 마진  \n",
    "mb-숫자 : 아래에 마진  \n",
    "my-숫자 : 위 아래 모두 마진  "
   ]
  },
  {
   "cell_type": "markdown",
   "id": "c7f25625",
   "metadata": {},
   "source": [
    " class=\"row my-3\""
   ]
  },
  {
   "cell_type": "markdown",
   "id": "d6b2bd0d",
   "metadata": {},
   "source": [
    "(2) 네비게이션 바 오른쪽 정렬하기  \n",
    "spacing을 이용하면 구성 요소를 정렬 시킬 수 있다.   \n",
    "ms- auto : 왼쪽 마진을 최대한 확보  (start)\n",
    "me-auto : 오른쪽 마진을 최대한 확보   (end)"
   ]
  },
  {
   "cell_type": "markdown",
   "id": "55907dba",
   "metadata": {},
   "source": [
    "    <ul class=\"navbar-nav ms-auto\">\n",
    "                        <li class=\"nav-item\">\n",
    "                            <a class=\"nav-link\" href=\"#\">Log In</a>\n",
    "                        </li>\n",
    "                    </ul>"
   ]
  },
  {
   "cell_type": "code",
   "execution_count": null,
   "id": "ef9d44d5",
   "metadata": {},
   "outputs": [],
   "source": []
  }
 ],
 "metadata": {
  "kernelspec": {
   "display_name": "Python 3",
   "language": "python",
   "name": "python3"
  },
  "language_info": {
   "codemirror_mode": {
    "name": "ipython",
    "version": 3
   },
   "file_extension": ".py",
   "mimetype": "text/x-python",
   "name": "python",
   "nbconvert_exporter": "python",
   "pygments_lexer": "ipython3",
   "version": "3.8.8"
  }
 },
 "nbformat": 4,
 "nbformat_minor": 5
}
