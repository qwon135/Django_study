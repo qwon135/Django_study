{
 "cells": [
  {
   "cell_type": "markdown",
   "id": "dc9087ca",
   "metadata": {},
   "source": [
    "# 4. 부스트 트랩으로 웹 사이트 모양 만들기"
   ]
  },
  {
   "cell_type": "code",
   "execution_count": 73,
   "id": "19ff23be",
   "metadata": {},
   "outputs": [],
   "source": [
    "from IPython.core.display import Javascript, display, HTML"
   ]
  },
  {
   "cell_type": "markdown",
   "id": "540446a1",
   "metadata": {},
   "source": [
    "## 블로그 페이지 모양 구현하기"
   ]
  },
  {
   "cell_type": "markdown",
   "id": "f1302550",
   "metadata": {},
   "source": [
    "### (1) CSS와 내비게이션 바 가져오기  \n",
    "about_me.html의 navbar 내용을 blog_list.html로 옮긴다."
   ]
  },
  {
   "cell_type": "markdown",
   "id": "388f0917",
   "metadata": {},
   "source": [
    "### (2) 페이지 내용이 들어갈 부분 구상하기\n",
    "내용이 들어갈 부분은 화면 크기가 midium일 때 8:4, large일 때 9:3이 되도록 설정한다.  \n",
    "이를 위해 container를 class로 갖는 div를 만들고 위아래 여백을 3으로 설정한다. "
   ]
  },
  {
   "cell_type": "markdown",
   "id": "b0ee8768",
   "metadata": {},
   "source": [
    "### (3) Start Bootstrap에서 템플릿 샘플 찾기\n",
    "부스트 트랩 공식 홈페이지의 Examples 페이지에서 부스트트랩이 적용된 웹페이지 샘플을 다양하게 제공 받을 수 있다.  \n",
    "공식 홈페이지가 아니라도 좋은 사이트가 많은데 대표적으로  Start Bootstrap (http://startbootstrap.com )이 있다.  \n",
    "Templates>Blogs 에 들어가면 웹 사이트 템플릿 예제로 Blog Post나 Blog Home이 나온다.  \n",
    "제공 되는 sample을 보고 필요한 소스코드를 가져와서 입맛에 맞게 수정하면 된다"
   ]
  },
  {
   "cell_type": "markdown",
   "id": "ac637370",
   "metadata": {},
   "source": [
    "### (4) 카드에 구성 요소 담기\n",
    "1단계. BlogHome 예제의 카드 구성 살펴보기.  \n",
    "대표 이미지 - 제목 - 요약문 - Readmpre - 작성일,작성자 등의 구성이다.  \n",
    "  \n",
    "2단계. BlogHome 에제의 소스코드 살펴보기  \n",
    "div태그에 class는 card mb-4로 지정하였으며, img 태그는 class card-img-top으로 하였고 card-body 안에는 card-title과 care-text로 반들어 필요한 내용을 채우고 회생 음영으로 된 작성일과 작성자 부분은 card-footer로 처리한 것을 알 수 잇다.\n",
    "#### 팁 : placehold.com사용하기  \n",
    "http://placeholder.com 라는 사이트 img 태그에 삽입할 경로를 제공하여준다. 원하는 폭과 높이에 맞는 그림을 보내준다. 이 서비스는 사진을 넣을 때 어떤 모습인지 먼저 확인하고 싶을 때 사용하면 좋다.  \n",
    "  \n",
    "3단계. 검색 창 카드와 카테고리 카드 살펴보기.  \n",
    "이제 Blog Home 예제의 오른쪽에 있는 검색창과 카테고리 카드를 살펴보자.  카드와 달리 header가 있으며 카드 내용을 구분할 수 있게 음영 처리가 되어있다. 검색 창의 소스코드는 h5 태그의 class는 card-header이다. 검색 창은 class가 card-body인 div태그안에 들어있다.  \n",
    "카테고리 카드도 창 카드와 비슷하지만 div태그의 class가 row로 지정되어있어 grid를 이용하 행을 6:6으로 나눈것을 알 수 있다. 또한 전체 화면에서만 12분할 하는 것이 아닌 요소 안에서도 12분할 하여 화면을 구성함을 알 수 있다.  \n",
    "이 세가지 요소를 모두 blog_list.html로 복사한다.  이제 꽤 그럴싸한 블로그가 만들어 졌다."
   ]
  },
  {
   "cell_type": "markdown",
   "id": "50f8f43f",
   "metadata": {},
   "source": [
    "\n",
    "<div class=\"card-body\">\n",
    "    <div class=\"small text-muted\">January 1, 2021</div>\n",
    "    <h2 class=\"card-title\">블로그 홈</h2>\n",
    "    <p class=\"card-text\">내용</p>\n",
    "    <a class=\"btn btn-primary\" href=\"#!\">Read more →</a>\n",
    "</div>\n"
   ]
  },
  {
   "cell_type": "markdown",
   "id": "f3ea03c2",
   "metadata": {},
   "source": [
    "<div class=\"card my-4\">\n",
    "<div class=\"card-header\">검색창 예시</div>\n",
    "<div class=\"card-body\">\n",
    "    <div class=\"input-group\">\n",
    "        <input class=\"form-control\" type=\"text\" placeholder=\"Enter search term...\" aria-label=\"Enter search term...\" aria-describedby=\"button-search\" />\n",
    "        <button class=\"btn btn-primary\" id=\"button-search\" type=\"button\">Go!</button>\n",
    "    </div>\n",
    "</div>"
   ]
  },
  {
   "cell_type": "markdown",
   "id": "5d422eb1",
   "metadata": {},
   "source": [
    "<div class=\"card mb-4\">\n",
    "    <div class=\"card-header\">카테고리 예시</div>\n",
    "    <div class=\"card-body\">\n",
    "        <div class=\"row\">\n",
    "            <div class=\"col-sm-6\">\n",
    "                <ul class=\"list-unstyled mb-0\">\n",
    "                    <li><a href=\"#!\">Web Design</a></li>\n",
    "                    <li><a href=\"#!\">HTML</a></li>\n",
    "                    <li><a href=\"#!\">Freebies</a></li>\n",
    "                </ul>\n",
    "            </div>\n",
    "            <div class=\"col-sm-6\">\n",
    "                <ul class=\"list-unstyled mb-0\">\n",
    "                    <li><a href=\"#!\">JavaScript</a></li>\n",
    "                    <li><a href=\"#!\">CSS</a></li>\n",
    "                    <li><a href=\"#!\">Tutorials</a></li>\n",
    "                </ul>\n",
    "            </div>\n",
    "        </div>\n",
    "    </div>\n",
    "</div> "
   ]
  },
  {
   "cell_type": "markdown",
   "id": "69060074",
   "metadata": {},
   "source": [
    "### (5) 페이지 이동 버튼과 푸터 추가하기\n",
    "1단계. BlogHome 예제에서 pagination 소스 코드 가져오기.  \n",
    "블로그 포스트가 수백개라면 한페이지에 나타내는 것이 비효율적이므로 5나 10페이지의 단위로 보여주고 다음 페이지로 이동할 수 있는 버튼을 만드는 것이 합리적이다. pagination을 사용하면 페이지 이동 버튼을 쉽게 만들 수 있다. "
   ]
  },
  {
   "cell_type": "markdown",
   "id": "13392b06",
   "metadata": {},
   "source": [
    "<!-- Pagination-->\n",
    "<ul class=\"pagination justify-content-center my-4\">\n",
    "    <li class=\"page-item disabled\"><a class=\"page-link\" href=\"#\" tabindex=\"-1\" aria-disabled=\"true\">Newer</a></li>\n",
    "    <li class=\"page-item active\" aria-current=\"page\"><a class=\"page-link\" href=\"#!\">1</a></li>\n",
    "    <li class=\"page-item\"><a class=\"page-link\" href=\"#!\">2</a></li>\n",
    "    <li class=\"page-item\"><a class=\"page-link\" href=\"#!\">3</a></li>\n",
    "    <li class=\"page-item disabled\"><a class=\"page-link\" href=\"#!\">...</a></li>\n",
    "    <li class=\"page-item\"><a class=\"page-link\" href=\"#!\">15</a></li>\n",
    "    <li class=\"page-item\"><a class=\"page-link\" href=\"#!\">Older</a></li>\n",
    "</ul>"
   ]
  },
  {
   "cell_type": "markdown",
   "id": "e8d8d719",
   "metadata": {},
   "source": [
    "### (6) 모달로 로그인 창 만들기  \n",
    "모달(modal)은 웹 브라우저 위에 팝업 형태로 나오는 요소다.  \n",
    "(Bootstrap 공식 홈페이지에서 Document>Components>Modal)\n",
    "### 모달의 소스코드\n",
    "모달의 소스 코드를 살펴보면, 모달을 나타내기 위한 버튼과 모달을 구현한 부분으로 나눌 수 있다.  \n",
    "#### 모달의 버튼 구현\n",
    "먼저 button 태그를 배고면 data-toggle=\"modal\"이라고 선언 하여 모달을 작동시키는 버튼을 구현하였으며 이버튼과 연결된 모달은 exampleModal이라는 id를 갖는 요소라는 의미로 data-target=\"#exampleModal\"을 추가하였다.  \n",
    "#### 모달 구현\n",
    "모달을 구현한 div 태그의 class=\"modal fade\"로 모달임을 선언하였고 버튼과 연결해주기 위해 data-target한 모달의 id인 exapleModal을 id로 지정하였다.  \n",
    "나머지 부분은 modal head, modal body, modal footer로 구성되어 있는 것을 볼 수 있다.\n",
    "### 모달 소스 코드 추가  \n",
    "이제 blog_list.html에 모달 을 추가여 로그인 창으로 사용하여보자.  \n",
    "Navbar에 Login버튼은 이미 구현해 놓았으므로 a 태그에 data-toggle=\"modal\" data-target=\"loginModal\"을 추가한다.(button태그가 아니어도 된다.)  \n",
    "마지막으로 modal-footer 부분의 버튼을 하나만 남긴다."
   ]
  },
  {
   "cell_type": "code",
   "execution_count": 83,
   "id": "6494fa75",
   "metadata": {},
   "outputs": [
    {
     "data": {
      "text/html": [
       "\n",
       "<button type=\"button\" class=\"btn btn-primary\" data-bs-toggle=\"modal\" data-bs-target=\"#exampleModal\">\n",
       "    Launch demo modal\n",
       "</button>\n",
       "\n"
      ],
      "text/plain": [
       "<IPython.core.display.HTML object>"
      ]
     },
     "metadata": {},
     "output_type": "display_data"
    }
   ],
   "source": [
    "display(\n",
    "HTML(\n",
    "'''\n",
    "<button type=\"button\" class=\"btn btn-primary\" data-bs-toggle=\"modal\" data-bs-target=\"#exampleModal\">\n",
    "    Launch demo modal\n",
    "</button>\n",
    "\n",
    "'''    \n",
    "))"
   ]
  },
  {
   "cell_type": "markdown",
   "id": "52e7c3b7",
   "metadata": {},
   "source": [
    "## (7) 버튼 추가하기"
   ]
  },
  {
   "cell_type": "markdown",
   "id": "73a3a0f8",
   "metadata": {},
   "source": [
    "### 부트스트랩에서 제공하는 버튼의 예시들  \n",
    "로그인 모달 안에 원하는 모양으로 버튼을 만들고 수정해보자.  \n",
    "(Documentation>Components>Buttons)"
   ]
  },
  {
   "cell_type": "markdown",
   "id": "271a9de5",
   "metadata": {},
   "source": [
    "#### 기본 버튼  \n",
    "기본적으로 button type=\"button\" class=\"btn\"을 사용하면 부트스트랩의 버튼 모양을 사용할 수 있다.  \n",
    "색이나 크기등을 class에 추가로 설정하면 버튼의 모양을 변화시킬 수 있다. Examples 항목의 btn-primary, btn-danger등이 그 예시이다."
   ]
  },
  {
   "cell_type": "code",
   "execution_count": 39,
   "id": "9976e794",
   "metadata": {},
   "outputs": [
    {
     "data": {
      "text/html": [
       "\n",
       "<button type=\"button\" class=\"btn\" > 기본버튼 </button>  \n",
       "<button type=\"button\" class=\"btn btn-primary\" > primary </button>  \n",
       "<button type=\"button\" class=\"btn btn-danger\" > danger </button>  \n"
      ],
      "text/plain": [
       "<IPython.core.display.HTML object>"
      ]
     },
     "execution_count": 39,
     "metadata": {},
     "output_type": "execute_result"
    }
   ],
   "source": [
    "HTML('''\n",
    "<button type=\"button\" class=\"btn\" > 기본버튼 </button>  \n",
    "<button type=\"button\" class=\"btn btn-primary\" > primary </button>  \n",
    "<button type=\"button\" class=\"btn btn-danger\" > danger </button>  \n",
    "''')"
   ]
  },
  {
   "cell_type": "markdown",
   "id": "7ac418db",
   "metadata": {},
   "source": [
    "#### 테두리가 있는 버튼\n"
   ]
  },
  {
   "cell_type": "code",
   "execution_count": 82,
   "id": "fdbff6e1",
   "metadata": {},
   "outputs": [
    {
     "data": {
      "text/html": [
       "\n",
       "<button type=\"button\" class=\"btn btn-outline-danger\">Danger</button>\n",
       "<button type=\"button\" class=\"btn btn-outline-warning\">Warning</button>\n",
       "<button type=\"button\" class=\"btn btn-outline-info\">Info</button>\n",
       "\n"
      ],
      "text/plain": [
       "<IPython.core.display.HTML object>"
      ]
     },
     "metadata": {},
     "output_type": "display_data"
    }
   ],
   "source": [
    "display(\n",
    "HTML(\n",
    "'''\n",
    "<button type=\"button\" class=\"btn btn-outline-danger\">Danger</button>\n",
    "<button type=\"button\" class=\"btn btn-outline-warning\">Warning</button>\n",
    "<button type=\"button\" class=\"btn btn-outline-info\">Info</button>\n",
    "\n",
    "'''    \n",
    "))"
   ]
  },
  {
   "cell_type": "markdown",
   "id": "f05793d8",
   "metadata": {},
   "source": [
    "#### HTML 태그로 만든 버튼  \n",
    "Button tags 항목을 보면 HTML 태그로 만든 버튼의 예시가 여러가지 있다.  "
   ]
  },
  {
   "cell_type": "code",
   "execution_count": 50,
   "id": "14592622",
   "metadata": {},
   "outputs": [
    {
     "data": {
      "text/html": [
       "\n",
       "<a class=\"btn btn-primary\" href=\"http://google.com\" role=\"button\">Link</a>  \n",
       "<button class=\"btn btn-primary\" type=\"submit\">Button</button>  \n",
       "<input class=\"btn btn-primary\" type=\"button\" value=\"Input\">  \n",
       "<input class=\"btn btn-primary\" type=\"submit\" value=\"Submit\">  \n",
       "<input class=\"btn btn-primary\" type=\"reset\" value=\"Reset\">  \n"
      ],
      "text/plain": [
       "<IPython.core.display.HTML object>"
      ]
     },
     "metadata": {},
     "output_type": "display_data"
    }
   ],
   "source": [
    "display(\n",
    "HTML(\n",
    "'''\n",
    "<a class=\"btn btn-primary\" href=\"http://google.com\" role=\"button\">Link</a>  \n",
    "<button class=\"btn btn-primary\" type=\"submit\">Button</button>  \n",
    "<input class=\"btn btn-primary\" type=\"button\" value=\"Input\">  \n",
    "<input class=\"btn btn-primary\" type=\"submit\" value=\"Submit\">  \n",
    "<input class=\"btn btn-primary\" type=\"reset\" value=\"Reset\">  \n",
    "'''    \n",
    "))"
   ]
  },
  {
   "cell_type": "markdown",
   "id": "210a03da",
   "metadata": {},
   "source": [
    "## 버튼 여러개(3개) 만들기  \n",
    "우리는 구글 아이디로 로그인, 이메일로 로그인, 회원가입의 세가지 기능을 제공하기 위해 여러개의 버튼을 만들 것이다.  \n",
    "modal-body안에 div class=\"row\"로 행을 1개 설정하고 그안에 div class=\"col-md-6\"로 열을 2개 설정한다. 그리고 버튼을 왼쪽 열에 2개 오른쪽 열에 1개 만든다.  "
   ]
  },
  {
   "cell_type": "code",
   "execution_count": 48,
   "id": "91318347",
   "metadata": {},
   "outputs": [
    {
     "data": {
      "text/html": [
       "\n",
       "<div>\n",
       "    <script type=\"text/javascript\"  src=\"bootstrap.bundle.js\"></script>\n",
       "    <div class=\"col-md-6\">\n",
       "        <button type=\"button\" class=\"btn-outline-dark\">Log in with Google</button>\n",
       "        <button type=\"button\" class=\"btn-outline-dark\">Log in with E-mail</button>\n",
       "    </div>\n",
       "    <div class=\"col-md-6\">\n",
       "        <button type=\"button\" class=\"btn-outline-dark\">Sigh Up with E-mail</button>\n",
       "    </div>\n",
       "</div>\n",
       "\n"
      ],
      "text/plain": [
       "<IPython.core.display.HTML object>"
      ]
     },
     "metadata": {},
     "output_type": "display_data"
    }
   ],
   "source": [
    "display(\n",
    "HTML(\n",
    "'''\n",
    "<div>\n",
    "    <script type=\"text/javascript\"  src=\"bootstrap.bundle.js\"></script>\n",
    "    <div class=\"col-md-6\">\n",
    "        <button type=\"button\" class=\"btn-outline-dark\">Log in with Google</button>\n",
    "        <button type=\"button\" class=\"btn-outline-dark\">Log in with E-mail</button>\n",
    "    </div>\n",
    "    <div class=\"col-md-6\">\n",
    "        <button type=\"button\" class=\"btn-outline-dark\">Sigh Up with E-mail</button>\n",
    "    </div>\n",
    "</div>\n",
    "\n",
    "'''    \n",
    "))"
   ]
  },
  {
   "cell_type": "markdown",
   "id": "7f28afa9",
   "metadata": {},
   "source": [
    "## 버튼 크기와 위치 조정  \n",
    "모달의 버튼 크기가 다 제각각이며, 버튼끼리 붙어있기도 하다. class에  d-grid gap-2를 추가하자."
   ]
  },
  {
   "cell_type": "code",
   "execution_count": 96,
   "id": "2ad48b82",
   "metadata": {},
   "outputs": [
    {
     "data": {
      "text/html": [
       "  \n",
       "<div class=\"col-6 d-grid gap-2\">\n",
       "    <button type=\"button\" class=\"btn-outline-dark btn-sm\">Log in with Google</button>\n",
       "    <button type=\"button\" class=\"btn-outline-dark btn-sm\">Log in with E-mail</button>\n",
       "</div>\n",
       "<div class=\"col-6 d-grid gap-2\">\n",
       "    <button type=\"button\" class=\"btn-outline-dark btn-sm\">Sigh Up with E-mail</button>\n",
       "</div> \n"
      ],
      "text/plain": [
       "<IPython.core.display.HTML object>"
      ]
     },
     "metadata": {},
     "output_type": "display_data"
    }
   ],
   "source": [
    "display(\n",
    "HTML(\n",
    "'''  \n",
    "<div class=\"col-6 d-grid gap-2\">\n",
    "    <button type=\"button\" class=\"btn-outline-dark btn-sm\">Log in with Google</button>\n",
    "    <button type=\"button\" class=\"btn-outline-dark btn-sm\">Log in with E-mail</button>\n",
    "</div>\n",
    "<div class=\"col-6 d-grid gap-2\">\n",
    "    <button type=\"button\" class=\"btn-outline-dark btn-sm\">Sigh Up with E-mail</button>\n",
    "</div> \n",
    "'''    \n",
    "))"
   ]
  },
  {
   "cell_type": "markdown",
   "id": "c080b913",
   "metadata": {},
   "source": [
    "### 버튼에 아이콘 추가하기  \n",
    "방금 만든 모달의 버튼에 글자만 있으면 허전하게 보인다. 글자앞에 아이콘이 있으면 이해하기도 쉬우며, 그럴싸해보인다.  \n",
    "부트스트랩에서도 기본적인 아이콘을 제공하지만 구글 모양의 아이콘은 제공하지않는다. 다양한 아이콘을 사용하고싶으면 Font awesome이라는 아이콘 툴킷 서비스를 사용하면 된다. (http://fontawesome.com/) 회원가입을 마치고 제공하는 자바스크립트 코드를 추가해주면 아이콘을 쓸 수 있다.\n",
    "\n",
    "<복사한 자바스크립트 코드>&nbsp '원하는 텍스트'"
   ]
  }
 ],
 "metadata": {
  "kernelspec": {
   "display_name": "Python 3",
   "language": "python",
   "name": "python3"
  },
  "language_info": {
   "codemirror_mode": {
    "name": "ipython",
    "version": 3
   },
   "file_extension": ".py",
   "mimetype": "text/x-python",
   "name": "python",
   "nbconvert_exporter": "python",
   "pygments_lexer": "ipython3",
   "version": "3.8.8"
  }
 },
 "nbformat": 4,
 "nbformat_minor": 5
}
