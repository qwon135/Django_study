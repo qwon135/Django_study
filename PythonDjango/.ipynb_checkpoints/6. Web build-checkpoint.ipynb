{
 "cells": [
  {
   "cell_type": "markdown",
   "id": "ea8bbda3",
   "metadata": {},
   "source": [
    "# 6. 장고로 프로젝트 만들기\n",
    "___"
   ]
  },
  {
   "cell_type": "markdown",
   "id": "4dcf50dd",
   "metadata": {},
   "source": [
    "## (1) 웹 사이트 구조 구상하기\n",
    "우선 '나'를 소개하는 웹 사이트인 블로그 겸 포트폴리오 사이트를 만들어 보자."
   ]
  },
  {
   "cell_type": "markdown",
   "id": "3c908ba9",
   "metadata": {},
   "source": [
    "### 어떤 웹 사이트를 만들것인가?\n",
    "만들 웹 페이지는 크게 3가지로 구성되어 있다.\n",
    "#### Landing page(대문 페이지)\n",
    "랜딩(대문) 페이지는 웹 사이트에 접속할 때 가장 처음 나타나는 대문 역할을 한다. 사이트의 정체성을 표현할 수 있는 문구나 이미지를 담고, 같이 일했던 사람의 평을 담으면 신뢰도를 높일 수도 있다.  \n",
    "#### blog page\n",
    "블로그 페이지는 말 그대로 평소에 공부한 내용이나 살면서 느낀점, 일기등을 기록하는 공간이다. 블로그 는 크게 두가지 요소로 구상한다.  \n",
    "* Postlist page : 우선 블로그의 포스트를 목록 형태로 보여주는 목록 페이지를 만든다.\n",
    "* Postdetail page : 방문자가 마음에 드는 포스트를 발견해 클릭한다면 포스트 전체 내용과 댓글을 보여주는 포스트 상세 페이지  \n",
    "\n",
    "#### 자기소개 페이지\n",
    "나에 대해 소개하고, 그동한 작업했던 내용을 간단한 이미지와 글로 보여주는 공간이다.\n",
    "\n",
    "___\n"
   ]
  },
  {
   "cell_type": "markdown",
   "id": "01d72e36",
   "metadata": {},
   "source": [
    "## (2) 깃 허브 저장소 만들기\n",
    "이미 깃허브 계장과 repository가 있으므로 pass"
   ]
  },
  {
   "cell_type": "markdown",
   "id": "bdc125e2",
   "metadata": {},
   "source": [
    "## (3) Pycharm 실습환경 설정\n",
    "파이썬 전용 IDE중 하나인 Pycharm을 사용해보자."
   ]
  },
  {
   "cell_type": "markdown",
   "id": "6995f32d",
   "metadata": {},
   "source": [
    "### 파이참으로 가상환경 만들기\n",
    "#### 프로젝트 폴더 지정하기\n",
    "#### 가상환경 만들기\n",
    "#### "
   ]
  },
  {
   "cell_type": "code",
   "execution_count": null,
   "id": "cdd7dcbb",
   "metadata": {},
   "outputs": [],
   "source": []
  },
  {
   "cell_type": "code",
   "execution_count": null,
   "id": "06d96cf3",
   "metadata": {},
   "outputs": [],
   "source": []
  },
  {
   "cell_type": "code",
   "execution_count": null,
   "id": "5ea985e8",
   "metadata": {},
   "outputs": [],
   "source": []
  },
  {
   "cell_type": "code",
   "execution_count": null,
   "id": "070e4b3b",
   "metadata": {},
   "outputs": [],
   "source": []
  },
  {
   "cell_type": "code",
   "execution_count": null,
   "id": "d8a4bd5b",
   "metadata": {},
   "outputs": [],
   "source": []
  },
  {
   "cell_type": "code",
   "execution_count": null,
   "id": "00e415cb",
   "metadata": {},
   "outputs": [],
   "source": []
  },
  {
   "cell_type": "code",
   "execution_count": null,
   "id": "c0d6cc68",
   "metadata": {},
   "outputs": [],
   "source": []
  }
 ],
 "metadata": {
  "kernelspec": {
   "display_name": "Python 3",
   "language": "python",
   "name": "python3"
  },
  "language_info": {
   "codemirror_mode": {
    "name": "ipython",
    "version": 3
   },
   "file_extension": ".py",
   "mimetype": "text/x-python",
   "name": "python",
   "nbconvert_exporter": "python",
   "pygments_lexer": "ipython3",
   "version": "3.8.8"
  }
 },
 "nbformat": 4,
 "nbformat_minor": 5
}
