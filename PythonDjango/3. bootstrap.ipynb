{
 "cells": [
  {
   "cell_type": "markdown",
   "id": "44e48ada",
   "metadata": {},
   "source": [
    "# 3. bootstrap"
   ]
  },
  {
   "cell_type": "markdown",
   "id": "be889194",
   "metadata": {},
   "source": [
    "## 부트스트랩이란  \n",
    "Bootstrap은 웹 개발에 있어 보편적으로 널리 쓰이는 구성 요소들을 미리 디자인 해놓은 툴킷(toolkit)이다. 경험이 없어도 그럴싸한 페이지를 구현할 수 있고. 다향한 화면 크기에 대응할 수 있는 반응형 웹을 지향하고 있으므로 화면크기에 따라 유연하게 변화하는 UX/UI를 적용할 수 있다."
   ]
  },
  {
   "cell_type": "markdown",
   "id": "46968a24",
   "metadata": {},
   "source": [
    "부트스트랩 공식 홈페이지에서 CDN을 가져온다.  \n",
    "CDN이란?  \n",
    "사람들이 자주 사용하는 CSS,js파일등을 모아둔 곳, 방문자가 접속 지역에 따라 가까운 서버에서 해당 파일을 받아볼 수 있다."
   ]
  },
  {
   "cell_type": "markdown",
   "id": "d1c3806e",
   "metadata": {},
   "source": [
    "https://getbootstrap.com/docs/5.1/components/navbar/\n",
    "\n",
    "공식 홈페이지에서 마음에드는 Navbar을 찾을 수 있다."
   ]
  },
  {
   "cell_type": "markdown",
   "id": "6795a6a0",
   "metadata": {},
   "source": [
    "### container로 레이아웃 적용하기"
   ]
  },
  {
   "cell_type": "markdown",
   "id": "0904e885",
   "metadata": {},
   "source": [
    "웹 브라우저에서 현재 화면을 보면 구성요소들 간의 여백이 없고 너무 왼쪽으로 붙어있다. 레이아웃을 적용하면 구성요소를 보기 좋게 배치할 수 있다.  \n",
    "부스트트랩의 container를 사용하면 페이지 구성을 위한 레이아웃을 간단히 만들 수 있다."
   ]
  },
  {
   "cell_type": "markdown",
   "id": "95ad5fd7",
   "metadata": {},
   "source": [
    "about_me.html에서 내용을 div 태그로 감싸고 class를 container로 설정한다.  \n",
    "nav 태그에도 container를 적용하면 내비게잉션 바에도 여백이 생긴다."
   ]
  },
  {
   "cell_type": "markdown",
   "id": "9f06d4fb",
   "metadata": {},
   "source": [
    "### grid로 웹 페이지 구성 관리하기  \n",
    "부스트 트랩의 grid기능을 사용하면 웹 페이지를 세로 12칸으로 나누어 관리할 수 있다. 이 기능을 사용하면 화면 크기를 다양하게 바꾸어도 그 크기에 맞게 웹 페이지 모양도 바뀌어 나타난다. "
   ]
  },
  {
   "cell_type": "markdown",
   "id": "3dade28c",
   "metadata": {},
   "source": [
    "div태그에 class=\"row\"를 추가 한다. '이 안에 있는 내용을 행 하나로 보겠다'는 의미이다. 그리고 2개의 div 태그를 추가로 생성,  \n",
    "class=\"col-9\" , class=\"col-3\"으로 설정하는데 9칸 짜리열과 3칸짜리 열로 나눈다는 의미이다. 9칸짜리 열에는 텍스트 3칸짜리 열에는 사진을 넣는다.  \n",
    "img의 클래스를 class=\"img-fluid w-100\"로 설정하면 3칸짜리 열에 해당하는 부분의 폭에 꽉차게 크림 높이가 조정된다."
   ]
  },
  {
   "cell_type": "markdown",
   "id": "7d33fa32",
   "metadata": {},
   "source": [
    "### 화면 크기에 따라 구성도 바꾸기  \n",
    "div 태그의 class='row  아래에 똑같이 div ㅌ"
   ]
  }
 ],
 "metadata": {
  "kernelspec": {
   "display_name": "Python 3",
   "language": "python",
   "name": "python3"
  },
  "language_info": {
   "codemirror_mode": {
    "name": "ipython",
    "version": 3
   },
   "file_extension": ".py",
   "mimetype": "text/x-python",
   "name": "python",
   "nbconvert_exporter": "python",
   "pygments_lexer": "ipython3",
   "version": "3.8.8"
  }
 },
 "nbformat": 4,
 "nbformat_minor": 5
}
