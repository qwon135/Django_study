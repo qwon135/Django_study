{
 "cells": [
  {
   "cell_type": "markdown",
   "id": "bc229f7a",
   "metadata": {},
   "source": [
    "# 11. Test Driven Develpment(테스트 주도개발,TDD)\n",
    "---\n",
    "## 테스트 주도개발이란?\n",
    "테스트 주도개발은 일종의 개발 방식 또는 개발 패턴을 말한다. 무언가를 개발할 때 바로 개발부터 하는 것이 아니라 개발하려는 항목에 대한 점검사항을 테스트 코드로 만들고 그 테스트를 통과시키는 방싱그로 개발을 징행하는 방법이다.\n",
    "\n",
    "### 왜 테스트 주도개발을 해야할까?\n",
    "현재까지 개발 방식을 한번 살펴보자  \n",
    "\n",
    "> 구현 > 웹 브라우저로 직접 확인 -> 성공 -> 개선점찾기 ->구현  \n",
    "\n",
    "- 구현 : 만들고 싶은 요소를 떠올리고 소스 코드를 작성  \n",
    "- 웹 브라우저로 직접 확인 : 웹 브라우저로 들어가서 잘 작동하는지 일일이 테스트한다.  \n",
    "- 성공 : 제대로 작동하지 않으면 다시 소스 코드를 들여다보고 수정하면서 성공시킨다.  \n",
    "- 개선점 찾기 : 다음에는 무엇을 더 개선해야 할지, 무엇을 개발해야 할지 고민을 한 후 다시 구현한다.  \n",
    "단순한 웹 사이트를 만들 때는 이런 방식이 더 효율적일 수 있으나 모델의 구조가 복잡하고, 기능이 다양하며, 페이지가 많은 웹사이트일수록 이러한 방식은 비효율적이다. 프로그램이 복잡해 질수록 추가한 기능 사이에 상호 연관성이 점점 늘어나기 때문이다. 점검 사항이 점점 늘면 에서 웹 확인하는 과정을 건너 뛰게 되고 문제가 발생했을 때 너무 많은 요소들이 서로 얽혀있어 원인을 파악하기 힘들다.  \n",
    "\n",
    "이 문제를 해결 방법은 개발을 한 단계씩 진행할 때마다 정석적으로 테스트를 해보는 것이다. 하지만 개발 프로그램이 복잡할수록 매번 소스코드를 테스트 하는것은 번거롭다.  \n",
    "그래서 사용하는 것이 테스트 주도 개발이다. 개발한 코드가 테스트를 만족하는지 자동으로 확인하면서 개발을 진행하므로 매번 직접 테스트하느라 지치지않고 사고 발생확률을 줄여준다.\n",
    "\n",
    "1. 테스트 코드작성 : 만들고싶은 기능을 점검할 코드작성 한다. 아직 기능을 구현하지 않았으므로 테스트 결과는 당연히 실패이다.\n",
    "2. 기능구현 : 테스트코드를 만족 시킬수 있게 기능을 구현하고 테스트 통과를 최우선으로 생각하고 작업한다.\n",
    "3. 리팩토링 : 기능의 성능을 향상시키거나, 재사용성이 좋거나, 가독성이 좋은 코드로 개선한다. 그 후 테스트 코드로 다시 기능을 점검한다.\n",
    "___                                                                                                                        "
   ]
  },
  {
   "cell_type": "markdown",
   "id": "a03b8643",
   "metadata": {},
   "source": [
    "### 테스트 주도 개발 준비하기\n",
    "#### (1) 테스트 코드 사용 연습하기\n",
    "터미널에 python manage.py test라고 입력한다. 0개의 테스트를 실행한 결과 OK가 나오는데 당연한 결과이다.  \n",
    "blog/test.py를 조금 수정해보자. TestCase 클래스를 상속받고 'Test'로 시작하는 이름을 가진 클래스를 하나 정의하자. 여기서는 장고의 MTV 구조 중 뷰 측면에서 테스트하겠다는 의미로 TestView라는 이름으로 정의하자.  "
   ]
  },
  {
   "cell_type": "code",
   "execution_count": 2,
   "id": "235b40e0",
   "metadata": {
    "collapsed": true
   },
   "outputs": [
    {
     "ename": "NameError",
     "evalue": "name 'TestCase' is not defined",
     "output_type": "error",
     "traceback": [
      "\u001b[1;31m---------------------------------------------------------------------------\u001b[0m",
      "\u001b[1;31mNameError\u001b[0m                                 Traceback (most recent call last)",
      "\u001b[1;32m<ipython-input-2-f37872a80445>\u001b[0m in \u001b[0;36m<module>\u001b[1;34m\u001b[0m\n\u001b[1;32m----> 1\u001b[1;33m \u001b[1;32mclass\u001b[0m \u001b[0mTestView\u001b[0m\u001b[1;33m(\u001b[0m\u001b[0mTestCase\u001b[0m\u001b[1;33m)\u001b[0m\u001b[1;33m:\u001b[0m\u001b[1;33m\u001b[0m\u001b[1;33m\u001b[0m\u001b[0m\n\u001b[0m\u001b[0;32m      2\u001b[0m     \u001b[1;32mdef\u001b[0m \u001b[0mtest_post_list\u001b[0m\u001b[1;33m(\u001b[0m\u001b[0mself\u001b[0m\u001b[1;33m)\u001b[0m\u001b[1;33m:\u001b[0m\u001b[1;33m\u001b[0m\u001b[1;33m\u001b[0m\u001b[0m\n\u001b[0;32m      3\u001b[0m         \u001b[0mself\u001b[0m\u001b[1;33m.\u001b[0m\u001b[0massertEqual\u001b[0m\u001b[1;33m(\u001b[0m\u001b[1;36m2\u001b[0m\u001b[1;33m,\u001b[0m\u001b[1;36m3\u001b[0m\u001b[1;33m)\u001b[0m\u001b[1;33m\u001b[0m\u001b[1;33m\u001b[0m\u001b[0m\n",
      "\u001b[1;31mNameError\u001b[0m: name 'TestCase' is not defined"
     ]
    }
   ],
   "source": [
    "class TestView(TestCase):  \n",
    "    def test_post_list(self):  \n",
    "        self.assertEqual(2,3)  "
   ]
  },
  {
   "cell_type": "markdown",
   "id": "3c334bfe",
   "metadata": {},
   "source": [
    "\n",
    "현재 테스트 내용은 2와 3이 같은지 테스트하는것이다. 2 와 3은 다르므로 테스트 결과를 실행해보면 실패한다. 2, 2로 수정하면 테스트가 성공이라고 나온다.  \n",
    "우리는 assertEqual 함수가 매개변수 2개의 일치여부를 알려준다는 것을 알 수 있다.\n",
    "#### (2) beautifulsoup4 설치하기\n",
    "웹 개발에서는 개발자가 구현한 요소들이 웹 브라우저에 의도한 대로 잘 나타나는지를 주로 테스트한다. 이때 웹 브라우저 타이틀이 뭐라고 되어 있는지, 버튼에 써 있는 내용은 무엇인지 알기 위해 HTML로 나타내는 페이지의 요소를 쉽게 다룰 수있는 도구인 beautifulsoup이 필요하다. \n",
    "___"
   ]
  },
  {
   "cell_type": "markdown",
   "id": "ca89c8fd",
   "metadata": {},
   "source": [
    "## 포스트 목록 페이지 테스트하기\n",
    "테스트 코드 작성은 앞에서 만든 코드의 내용을 정리하는 것부터 시작해보자. 앞에서 포스트 목록 페이지를 만들어 보지 않았다고 가정을하고 테스트 코드를 만드는 것이다.  \n",
    "포스트 목록 페이지의 디자인 부터 생각해보면 맨위에 네비게이션바가 있고, 그 바로 아래에는 포스트 목록 형태를 보여주는 공간이 있다. 그 옆에는 검색창과 카테고리를 보여주는 공간이 있다. 그리고 검색창과 카테고리를 보여주는 공간이 있다. 포스트를 목록형태로 보여준느 공간에는 제목, 작성일 등이 있다. 이제 이것을 테스트 코드로 구현해보자.\n",
    "#### (1) 포스트 목록 페이지 테스트 코드 작성하기\n",
    "blog/testpy에 앞에서 쓴 코드는 지우고 내용을 작성한다. TestCase내에서 기본적으로 설정되어야할 내용은 setUp()함수에 정의한다. 현재는Client()만 담는다.  \n",
    "테스트의 과정은 아래와 같다.\n",
    " \n",
    "- 1.1  포스트 목록 페이지를 가져온다.  \n",
    "- 1.2 정상적으로 페이지가 로드된다.  \n",
    "- 1.3 페이지 타이틀은 'Blog' 이다.  \n",
    "- 1.4 네비게이션바가 있다.\n",
    "- 1.5 Blog. About me 라는 문구가 네비게이션 바에 있다.\n",
    "\n",
    "- 2.1 메인 영역에 게시물이 하나도 없다면\n",
    "- 2.2 '아직 게시물이 없습니다.' 라는 문구가 보인다.\n",
    "\n",
    "- 3.1 게시물이 2개 있다면\n",
    "- 3.2 포스트 목록 페이지를 새로고침했을 때\n",
    "- 3.3 메인 영역에 포스트 2개의 타이틀이 존재한다.\n",
    "- 3.4 '아직 게시물이 없습니다.' 라는 문구는 더 이상 보이지 않는다.\n",
    "\n",
    "#### (2) 테스트 코드 작성하기\n",
    "TestCase를 이용한 테스트 방식은 실제 DB를 건드리지않고 가상의 DB에서 테스트를 한다. 이미 DB가 db.sqlite3에 있는데 왜 가상의 DB를 만들까? 테스트를 하려면 (Post모델의) 생성, 수정, 삭제 등의 작업이 필요하다. 그러다가 이미 운영되는 서버의 DB를 건드릴 수 있기 때문이다. 테스트 코드 작성은 아래와같다."
   ]
  },
  {
   "cell_type": "code",
   "execution_count": 1,
   "id": "6eb326f6",
   "metadata": {
    "collapsed": true
   },
   "outputs": [
    {
     "ename": "NameError",
     "evalue": "name 'TestCase' is not defined",
     "output_type": "error",
     "traceback": [
      "\u001b[1;31m---------------------------------------------------------------------------\u001b[0m",
      "\u001b[1;31mNameError\u001b[0m                                 Traceback (most recent call last)",
      "\u001b[1;32m<ipython-input-1-2c0e5ebe2298>\u001b[0m in \u001b[0;36m<module>\u001b[1;34m\u001b[0m\n\u001b[1;32m----> 1\u001b[1;33m \u001b[1;32mclass\u001b[0m \u001b[0mTestView\u001b[0m\u001b[1;33m(\u001b[0m\u001b[0mTestCase\u001b[0m\u001b[1;33m)\u001b[0m\u001b[1;33m:\u001b[0m\u001b[1;33m\u001b[0m\u001b[1;33m\u001b[0m\u001b[0m\n\u001b[0m\u001b[0;32m      2\u001b[0m     \u001b[1;32mdef\u001b[0m \u001b[0msetUp\u001b[0m\u001b[1;33m(\u001b[0m\u001b[0mself\u001b[0m\u001b[1;33m)\u001b[0m\u001b[1;33m:\u001b[0m\u001b[1;33m\u001b[0m\u001b[1;33m\u001b[0m\u001b[0m\n\u001b[0;32m      3\u001b[0m         \u001b[0mself\u001b[0m\u001b[1;33m.\u001b[0m\u001b[0mclient\u001b[0m\u001b[1;33m=\u001b[0m\u001b[0mClient\u001b[0m\u001b[1;33m(\u001b[0m\u001b[1;33m)\u001b[0m\u001b[1;33m\u001b[0m\u001b[1;33m\u001b[0m\u001b[0m\n\u001b[0;32m      4\u001b[0m \u001b[1;33m\u001b[0m\u001b[0m\n\u001b[0;32m      5\u001b[0m     \u001b[1;32mdef\u001b[0m \u001b[0mtest_post_list\u001b[0m\u001b[1;33m(\u001b[0m\u001b[0mself\u001b[0m\u001b[1;33m)\u001b[0m\u001b[1;33m:\u001b[0m\u001b[1;33m\u001b[0m\u001b[1;33m\u001b[0m\u001b[0m\n",
      "\u001b[1;31mNameError\u001b[0m: name 'TestCase' is not defined"
     ]
    }
   ],
   "source": [
    "class TestView(TestCase):\n",
    "    def setUp(self):\n",
    "        self.client=Client()\n",
    "    \n",
    "    def test_post_list(self):\n",
    "        # 1.1 포스트 목록 페이지를 가져온다.\n",
    "        response=self.client.get('/blog/')\n",
    "        # 1.2 정상적으로 페이지가 로드된다.\n",
    "        self.assertEqual(response.status_code,200)\n",
    "        # 1.3 페이지 타이틀은 'Blog' 이다.\n",
    "        soup=BeautifulSoup(response.content,'html.parser')\n",
    "        self.assertEqual(soup.title.text,'Blog')\n",
    "        # 1.4 네비게이션바가 있다.\n",
    "        navbar=soup.nav\n",
    "        # 1.5 Blog. About me 라는 문구가 네비게이션 바에 있다.\n",
    "        self.assertIn('Blog',navbar.text)\n",
    "        self.assertIn('About me',navbar.text)\n",
    "\n",
    "        # 2.1 메인 영역에 게시물이 하나도 없다면\n",
    "        self.assertEqual(Post.objects.count(),0)\n",
    "        # 2.2 '아직 게시물이 없습니다.' 라는 문구가 보인다.\n",
    "        main_area=soup.find('div',id='main-area')\n",
    "        self.assertIn('아직 게시물이 없습니다',main_area.text)\n",
    "\n",
    "        # 3.1 포스트가 2개 있다면\n",
    "        post_001=Post.objects.create(\n",
    "            title='첫 번째 포스트입니다.',\n",
    "            content='Hello World. We are the World.',\n",
    "        )\n",
    "        post_002=Post.objects.create(\n",
    "            title='두 번째 포스트입니다.',\n",
    "            content='1등이 전부는 아니다.',\n",
    "        )\n",
    "        self.assertEqual(Post.objects.count(),2)\n",
    "        # 3.2 포스트 목록 페이지를 새로고침했을 때\n",
    "        response=self.client.get('/blog/')\n",
    "        soup=BeautifulSoup(response.content,'html.parser')\n",
    "        self.assertEqual(response.status_code,200)\n",
    "        # 3.3 메인 영역에 포스트 2개의 타이틀이 존재한다.\n",
    "        main_area=soup.find('div',id='main-area')\n",
    "        self.assertIn(post_001.title,main_area.text)\n",
    "        self.assertIn(post_002.title,main_area.text)\n",
    "        # 3.4 '아직 게시물이 없습니다.' 라는 문구는 더 이상 보이지 않는다.\n",
    "        self.assertNotIn('아직 게시물이 없습니다.',main_area.text)"
   ]
  },
  {
   "cell_type": "markdown",
   "id": "33ad530c",
   "metadata": {},
   "source": [
    "#### 코드 해석\n",
    "- 1.1 : 장고 테스트에서 clien는 가상의 사용자이다. self.client.get('/blog/')로 사용자가 웹에 주소를 입력했을 때 열리는 웹 정보를 response변수에저장한다.  \n",
    "- 1.2 : 웹개발에선 서버에 요청한 페이지가 없을 시 404 오류, 성공적이면 200을 돌려주는 것이 약속이다. status_code는 정상 작동시 200을 돌려준다.  \n",
    "- 1.3 : 불러온 페이지는 HTML로 되어있다. BeautifulSoup은 이러한 HTML로된 언러를 탐색할때 쓰기 좋은 모듈이다. html.parser는 html을 피싱(해당 언어의 구성성분을 해석한다는 의미로 쓰임)해준다. 해당 결과를 soup변수에 담아 assertEqual로 title이 'Blog'인지 검사한다.  \n",
    "- 1.4 : soup.nav로 nav 태그인 요소들만 가져와 navbar에 저장한다.  \n",
    "- 1.5 navbar 텍스트 중 Blog와 About me가 있는지 검사한다.  \n",
    "\n",
    "- 2.1 : asserEqual로 Post.objects.count()가 0인지 검사한다. 테스트를 시작하면 새 DB가 임시로 만들어져서 진행된다. 단 setUp()함수에서 설정한 요소는 포함시킨다. 하지만 현재는 setUp함수에 담아 놓은 정보가 없으므로 임시 테스트 DB에는 포스트가 없다.\n",
    "- 2.2 : div태그 중 id가 main-area인 요소를 찾아 main-area변수에 저장한다. 그리고 DB에 저장된 Post 레코드가 하나도 없으니 '아직 게시물이 없습니다.'가 나타나는지 점검한다.  \n",
    "\n",
    "- 3.1 : Post 레코드가 DB에 존재하는 상황도 테스트하기위해 임의의 포스트 2개를 만든다. Post.objects.create() 함수를 사용하면 새로운 포스트를 만들 수 있다. 매개변수에는 Post 모델의 필드 값을 넣는다. 그리고 임시 DB에 포스트 2개가 잘 생성되었는지 확인한다.\n",
    "- 3.2 : 페이지를 새로고침 하는과정은 1.1~1.3 과정을 일부 반복하는 방식으로 구현한다.\n",
    "- 3.3 : 새로 만든 두 포스트의 타이틀 id가 'main-area'인 요소에 있는지 확인한다.\n",
    "- 3.4 : 포스트가 생성 되었으니 '아직 게시물이 없습니다.'라는 문구가 메인 영역에 없어하므로 검사를 실시한다."
   ]
  },
  {
   "cell_type": "markdown",
   "id": "04bf8ea2",
   "metadata": {},
   "source": [
    "#### (3) 테스트를 반복하며 post_list.html 수정하기\n",
    "이제 터미널에서 python manage.py  test로 테스트를 해본다. 결과는 당연히 실패이다.  \n",
    "\n",
    ">오류 결과  \n",
    "Traceback (most recent call last):  \n",
    "        File \"C:\\github\\my_blog\\blog_project\\blog\\tests.py\", line 27, in test_post_list  \n",
    "          self.assertIn('아직 게시물이 없습니다',main_area.text)  \n",
    "AttributeError: 'NoneType' object has no attribute 'text'  "
   ]
  },
  {
   "cell_type": "markdown",
   "id": "f8438b5a",
   "metadata": {},
   "source": [
    "오류 메시지를 보면 NoneType 객채에 tex살는 attribute가 없다고 한다. 아직 main-area인 div요소가 없기 때문에 테스트 코드에서 main-area에 None이 저장되었기 때문이다. post_list.html에 id=\"main-area\" 를 추가 해준다.  그리고 '아직 게시물이 없습니다.' 글이 보이도록 post_list.html에 조건문을 추가해준다. if문을 사용하고 해당 객체가 있는지 없는지 확인하는 exists()함수를 사용한다.(count함수보다 서버에 부담이적다.)  그럼 테스트가 정상적으로 통과된다.\n",
    "\n",
    "> __테스트 코드는 언제 사용하는게 좋을까?__  \n",
    "테스트를 많이 할수록 실수를 방지하고 견고한 프로그램을 만들 수 있다. 하지만 테스트 코드를 어디까지 만들어 놓아야 하는지는 개발자의 판단에 달려있다. 구현하는 모든 기능에 대한 테스트를 만들기는 힘들기 때문이다. 개발 중 '이건 나중에 문제가 될 여지가 있다.'라고 생각되는 곳에 테스트 코드를 작성하는것이 좋다.\n",
    "\n",
    "___"
   ]
  },
  {
   "cell_type": "markdown",
   "id": "acfa37dd",
   "metadata": {},
   "source": [
    "## 포스트 상세 페이지 테스트하기\n",
    "### 포스트 상세 페이지 테스트 코드 작성하기\n",
    "#### (1) tests.py에 테스트할 내용 나열하기\n",
    "상세 페이지에 꼭 필요한 기능들에 테스트 코드를 추가해보자. test_post_list() 함수아래에 test_post_detail()함수를 새로 작성한다.  \n",
    "상세 페이지의 테스트 목록은 다음과 같다.\n",
    "- 1.1 포스트가 하나 있다.\n",
    "- 1.2 그 포스트의 url은 '/blog/1'이다.\n",
    "\n",
    "- 2.0 첫 번째 포스트의 상세 페이지 테스트\n",
    "- 2.1 첫 번째 포스트의 url로 접근하명 적상 작동된다.(status code: 200)\n",
    "- 2.2 포스트 목록 페이지와 똑같은 네비게이션 바가 있다.\n",
    "- 2.3 첫 번째 포스트의 제목이 웹 브라우저 탭 타이틀에 들어 있다.\n",
    "- 2.4 첫 번째 포스트의 제목이 포스트 영역에 있다.\n",
    "- 2.5 첫 번째 포스트의 작성자(author)가 포스트 영역에 있다.(아직 author 구현X)\n",
    "- 2.6 첫 번째 포스트의 내용(content)이 포스트 영역에 있다.  \n",
    "\n",
    "#### (2) 테스트 코드 작성하기\n",
    "이제 코드를 작성한다."
   ]
  },
  {
   "cell_type": "code",
   "execution_count": 4,
   "id": "e8796408",
   "metadata": {},
   "outputs": [],
   "source": [
    "    def test_post_detail(self):\n",
    "        # 1.1 포스트가 하나 있다.\n",
    "        post_001=Post.objects.create(\n",
    "            title='첫 번째 포스트 입니다.',\n",
    "            content='Hello World. We are the world.'\n",
    "        )\n",
    "        # 1.2 그 포스트의 url은 '/blog/1'이다.\n",
    "        self.assertEqual(post_001.get_absolute_url(),'/blog/1') #/blog/에 해당글의 pk를 붙여서 return하는 함수\n",
    "        \n",
    "        # 2.0 첫 번째 포스트의 상세 페이지 테스트        \n",
    "        # 2.1 첫 번째 포스트의 url로 접근하명 적상 작동된다.(status code: 200)\n",
    "        response=self.client.get(post_001.get_absolute_url())\n",
    "        self.assertEqual(response.status_code,200)\n",
    "        soup=BeautifulSoup(response.content,'html.parser')\n",
    "        # 2.2 포스트 목록 페이지와 똑같은 네비게이션 바가 있다.\n",
    "        navbar=soup.nav\n",
    "        self.assertIn('Blog',navbar.text)\n",
    "        self.assertIn('About Me',navbar.text)\n",
    "        # 2.3 첫 번째 포스트의 제목이 웹 브라우저 탭 타이틀에 들어 있다.\n",
    "        self.assertIn(post_001.title,soup.title.text)\n",
    "        # 2.4 첫 번째 포스트의 제목이 포스트 영역에 있다.\n",
    "        main_area=soup.find('div',id='main-area')\n",
    "        post_area=main_area.find('div',id='post-area')\n",
    "        self.assertIn(post_001.title,post_area.text)\n",
    "        # 2.5 첫 번째 포스트의 작성자(author)가 포스트 영역에 있다.(아직 author 구현X)\n",
    "        # 아직 pass\n",
    "        # 2.6 첫 번째 포스트의 내용(content)이 포스트 영역에 있다.\n",
    "        self.assertIn(post_001.content,post_area.text)"
   ]
  },
  {
   "cell_type": "markdown",
   "id": "87877e8a",
   "metadata": {},
   "source": [
    "#### 코드 해석 \n",
    "- 1.1 : text_post_detail 함수를 실행하게 되면 다시 임시DB를 만든다. 아무것도 없으므로 포스트를 하나 만든다.\n",
    "- 1.2 : 첫 번째 포스트가 만들어 졌으니 이 포스트의 레코드의 pk는 1이다. 따라서 URL은 /blog/1/이된다.\n",
    "\n",
    "- 2.1 : /blog/1/로 접근했을 때 status_code 값으로 200이 반환되는지 확인한다. 그리고 이 페이지를 Beautifulsoup으로 피싱한다.\n",
    "- 2.2 : 네비게이션바의 텍스트가 포스트 목록 페이지의 것과 똑같은지 점검한다.\n",
    "- 2.3 : 이 포스트의 title 필드 값이 웹 브라우저의 탭의 타이틀에 있는지 확인한다.\n",
    "- 2.4 : 메인 영역에서 포스트 영역만 불러온다. id=main-area인 div 요소를 찾고 그 안에 다시 id=post-area인 div요소를 찾아 post_area에 담는다. 그리고 post_001 의 title 필드 값이 포스트 영역에 있는지 확인한다.\n",
    "- 2.5 : pass\n",
    "- 2.6 : 마지막으로 post_001 내용이 포스트 영역에 있는지 확인한다.\n",
    "\n",
    "#### (3) 테스트로 수정할 내용파악하기\n",
    "현재의 navbar는 startboostrap의 디자인을 그대로 가지고왔기 때문에 오류가 뜬다. 하지만 수정하기 전에 전반적인 디자인을 수정할 필요가 있다."
   ]
  }
 ],
 "metadata": {
  "kernelspec": {
   "display_name": "Python 3",
   "language": "python",
   "name": "python3"
  },
  "language_info": {
   "codemirror_mode": {
    "name": "ipython",
    "version": 3
   },
   "file_extension": ".py",
   "mimetype": "text/x-python",
   "name": "python",
   "nbconvert_exporter": "python",
   "pygments_lexer": "ipython3",
   "version": "3.8.8"
  }
 },
 "nbformat": 4,
 "nbformat_minor": 5
}
